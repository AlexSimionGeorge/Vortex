{
 "cells": [
  {
   "cell_type": "code",
   "id": "initial_id",
   "metadata": {
    "collapsed": true,
    "ExecuteTime": {
     "end_time": "2025-08-18T21:10:48.771498Z",
     "start_time": "2025-08-18T21:10:48.761115Z"
    }
   },
   "source": [
    "from src.inspector_git import IGLogReader, GitLogDTO\n",
    "from src.jira_miner.models import JsonFileFormatJira\n",
    "from src.github_miner import JsonFileFormatGithub\n",
    "import json\n",
    "from pathlib import Path\n",
    "from pprint import pprint\n",
    "\n"
   ],
   "outputs": [],
   "execution_count": 27
  },
  {
   "metadata": {
    "ExecuteTime": {
     "end_time": "2025-08-18T21:13:39.432166Z",
     "start_time": "2025-08-18T21:13:39.429624Z"
    }
   },
   "cell_type": "code",
   "source": [
    "# JSON\n",
    "path_jira = \"/home/alex/Work/BachelorThesis/Vortex/test-input/jira-miner/ZEPPELIN-detailed-issues.json\"\n",
    "path_github = \"/home/alex/Work/BachelorThesis/Vortex/test-input/github-miner/githubProject.json\"\n",
    "\n",
    "# IGLOG\n",
    "path_inspector_git = \"/home/alex/Work/BachelorThesis/Vortex/test-input/inspector-git/zeppelin.iglog\"\n"
   ],
   "id": "58019fd0e37f40c3",
   "outputs": [],
   "execution_count": 35
  },
  {
   "metadata": {
    "ExecuteTime": {
     "end_time": "2025-08-18T21:12:29.329040Z",
     "start_time": "2025-08-18T21:12:29.325316Z"
    }
   },
   "cell_type": "code",
   "source": [
    "def load_from_json(model_cls, file_path: str):\n",
    "    \"\"\"Load JSON from a given path and validate it with the provided model class.\"\"\"\n",
    "    file_path = Path(file_path)\n",
    "\n",
    "    if not file_path.exists():\n",
    "        raise FileNotFoundError(f\"File not found: {file_path}\")\n",
    "\n",
    "    with file_path.open(\"r\", encoding=\"utf-8\") as f:\n",
    "        data = json.load(f)\n",
    "\n",
    "    return model_cls.model_validate(data)\n",
    "\n",
    "\n",
    "def load_jsons():\n",
    "    jira_data_loaded = load_from_json(JsonFileFormatJira, path_jira)\n",
    "    github_data_loaded = load_from_json(JsonFileFormatGithub, path_github)\n",
    "    return jira_data, github_data\n",
    "\n",
    "IGLogReader = IGLogReader()\n"
   ],
   "id": "1b667a76c9b06b05",
   "outputs": [],
   "execution_count": 31
  },
  {
   "metadata": {
    "ExecuteTime": {
     "end_time": "2025-08-18T21:12:42.937787Z",
     "start_time": "2025-08-18T21:12:40.038973Z"
    }
   },
   "cell_type": "code",
   "source": "jira_data, github_data = load_jsons()",
   "id": "5fe6d3b0c13f81db",
   "outputs": [],
   "execution_count": 33
  },
  {
   "metadata": {
    "ExecuteTime": {
     "end_time": "2025-08-18T21:13:59.331283Z",
     "start_time": "2025-08-18T21:13:41.868612Z"
    }
   },
   "cell_type": "code",
   "source": "inspector_git_data = IGLogReader.read(path_inspector_git)",
   "id": "9315c02acd22c18c",
   "outputs": [],
   "execution_count": 36
  },
  {
   "metadata": {
    "ExecuteTime": {
     "end_time": "2025-08-18T21:15:58.641544Z",
     "start_time": "2025-08-18T21:15:58.637134Z"
    }
   },
   "cell_type": "code",
   "source": "pprint(inspector_git_data.commits[0].model_dump())",
   "id": "90758b894ae02422",
   "outputs": [
    {
     "name": "stdout",
     "output_type": "stream",
     "text": [
      "{'author_date': 'Tue Jun 18 21:40:59 2013 -0700',\n",
      " 'author_email': 'leemoonsoo@gmail.com',\n",
      " 'author_name': 'Lee moon soo',\n",
      " 'changes': [{'binary': False,\n",
      "              'hunks': [{'added_line_changes': [{'content': None,\n",
      "                                                 'number': 1,\n",
      "                                                 'operation': <LineOperation.Add: 'Add'>},\n",
      "                                                {'content': None,\n",
      "                                                 'number': 2,\n",
      "                                                 'operation': <LineOperation.Add: 'Add'>},\n",
      "                                                {'content': None,\n",
      "                                                 'number': 3,\n",
      "                                                 'operation': <LineOperation.Add: 'Add'>},\n",
      "                                                {'content': None,\n",
      "                                                 'number': 4,\n",
      "                                                 'operation': <LineOperation.Add: 'Add'>},\n",
      "                                                {'content': None,\n",
      "                                                 'number': 5,\n",
      "                                                 'operation': <LineOperation.Add: 'Add'>},\n",
      "                                                {'content': None,\n",
      "                                                 'number': 6,\n",
      "                                                 'operation': <LineOperation.Add: 'Add'>}],\n",
      "                         'deleted_line_changes': []}],\n",
      "              'new_file_name': '.gitignore',\n",
      "              'old_file_name': '/dev/null',\n",
      "              'parent_commit_id': '',\n",
      "              'type': <ChangeType.Add: 'Add'>},\n",
      "             {'binary': False,\n",
      "              'hunks': [{'added_line_changes': [{'content': None,\n",
      "                                                 'number': 1,\n",
      "                                                 'operation': <LineOperation.Add: 'Add'>},\n",
      "                                                {'content': None,\n",
      "                                                 'number': 2,\n",
      "                                                 'operation': <LineOperation.Add: 'Add'>},\n",
      "                                                {'content': None,\n",
      "                                                 'number': 3,\n",
      "                                                 'operation': <LineOperation.Add: 'Add'>},\n",
      "                                                {'content': None,\n",
      "                                                 'number': 4,\n",
      "                                                 'operation': <LineOperation.Add: 'Add'>}],\n",
      "                         'deleted_line_changes': []}],\n",
      "              'new_file_name': 'README.md',\n",
      "              'old_file_name': '/dev/null',\n",
      "              'parent_commit_id': '',\n",
      "              'type': <ChangeType.Add: 'Add'>}],\n",
      " 'committer_date': 'Tue Jun 18 21:40:59 2013 -0700',\n",
      " 'committer_email': 'leemoonsoo@gmail.com',\n",
      " 'committer_name': 'Lee moon soo',\n",
      " 'id': 'ec716cf6e8725dc456db42d11a1972aa78d9de91',\n",
      " 'message': 'Initial commit',\n",
      " 'parent_ids': []}\n"
     ]
    }
   ],
   "execution_count": 40
  }
 ],
 "metadata": {
  "kernelspec": {
   "display_name": "Python 3",
   "language": "python",
   "name": "python3"
  },
  "language_info": {
   "codemirror_mode": {
    "name": "ipython",
    "version": 2
   },
   "file_extension": ".py",
   "mimetype": "text/x-python",
   "name": "python",
   "nbconvert_exporter": "python",
   "pygments_lexer": "ipython2",
   "version": "2.7.6"
  }
 },
 "nbformat": 4,
 "nbformat_minor": 5
}
