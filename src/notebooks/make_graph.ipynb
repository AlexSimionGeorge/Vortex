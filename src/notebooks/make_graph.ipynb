{
 "cells": [
  {
   "metadata": {},
   "cell_type": "markdown",
   "source": "# Imports",
   "id": "6679d192763fe029"
  },
  {
   "metadata": {
    "ExecuteTime": {
     "end_time": "2025-09-07T23:14:08.871755Z",
     "start_time": "2025-09-07T23:14:08.775535Z"
    }
   },
   "cell_type": "code",
   "source": [
    "from src.inspector_git import IGLogReader, GitLogDTO\n",
    "from src.jira_miner.models import JsonFileFormatJira\n",
    "from src.github_miner import JsonFileFormatGithub\n",
    "import json\n",
    "from pathlib import Path\n",
    "from pprint import pprint\n",
    "import re\n",
    "from datetime import datetime\n",
    "import pickle\n",
    "from graph import *"
   ],
   "id": "263ef051944f4924",
   "outputs": [],
   "execution_count": 1
  },
  {
   "metadata": {},
   "cell_type": "markdown",
   "source": "# Load data from SERIALIZED formats",
   "id": "b4609e6e43730a89"
  },
  {
   "metadata": {
    "ExecuteTime": {
     "end_time": "2025-09-07T23:14:57.944681Z",
     "start_time": "2025-09-07T23:14:10.279900Z"
    }
   },
   "cell_type": "code",
   "source": [
    "# JSON\n",
    "path_jira = \"/home/vortex/Work/BachelorThesis/Vortex/test-input/jira-miner/ZEPPELIN-detailed-issues.json\"\n",
    "path_github = \"/home/vortex/Work/BachelorThesis/Vortex/test-input/github-miner/githubProject.json\"\n",
    "# IGLOG\n",
    "path_inspector_git = \"/home/vortex/Work/BachelorThesis/Vortex/test-input/inspector-git/zeppelin.iglog\"\n",
    "\n",
    "\n",
    "\n",
    "def load_from_json(model_cls, file_path: str):\n",
    "    \"\"\"Load JSON from a given path and validate it with the provided model class.\"\"\"\n",
    "    file_path = Path(file_path)\n",
    "\n",
    "    if not file_path.exists():\n",
    "        raise FileNotFoundError(f\"File not found: {file_path}\")\n",
    "\n",
    "    with file_path.open(\"r\", encoding=\"utf-8\") as f:\n",
    "        data = json.load(f)\n",
    "\n",
    "    return model_cls.model_validate(data)\n",
    "\n",
    "def load_jsons():\n",
    "    jira_data_loaded = load_from_json(JsonFileFormatJira, path_jira)\n",
    "    github_data_loaded = load_from_json(JsonFileFormatGithub, path_github)\n",
    "    return jira_data_loaded, github_data_loaded\n",
    "\n",
    "IGLogReader = IGLogReader()\n",
    "\n",
    "\n",
    "\n",
    "jira_data, github_data = load_jsons()\n",
    "inspector_git_data = IGLogReader.read(path_inspector_git)\n",
    "\n",
    "graph = Graph()\n",
    "\n",
    "graph.add_inspector_git_data(inspector_git_data)\n",
    "graph.add_jira_data(jira_data)\n",
    "graph.add_github_data(github_data)\n",
    "\n",
    "graph.link_issues_with_git_commits()\n",
    "graph.link_pull_request_with_issue(jira_data)\n",
    "graph.link_pull_requests_with_git_commits()\n",
    "\n",
    "graph.save()\n",
    "\n",
    "print(graph.summary())"
   ],
   "id": "60baa45640dd5199",
   "outputs": [
    {
     "name": "stdout",
     "output_type": "stream",
     "text": [
      "There are 3642 Issue–Commit edges\n",
      "Commits liked with issues: 3209\n",
      "Created 4385 PR–Issue edges\n",
      "PRs linked with issues: 3974\n",
      "Unknown reference in ZEPPELIN-6282 of a pull request: This issue links to \"GitHub Pull Request #5026 (Web Link)\"\n",
      "Unknown reference in ZEPPELIN-6283 of a pull request: This issue links to \"GitHub Pull Request #5030 (Web Link)\"\n",
      "Unknown reference in ZEPPELIN-6280 of a pull request: This issue links to \"GitHub Pull Request #5028 (Web Link)\"\n",
      "Unknown reference in ZEPPELIN-6281 of a pull request: This issue links to \"GitHub Pull Request #5029 (Web Link)\"\n",
      "Unknown reference in ZEPPELIN-6276 of a pull request: This issue links to \"GitHub Pull Request #5027 (Web Link)\"\n",
      "Unknown reference in ZEPPELIN-6164 of a pull request: This issue links to \"GitHub Pull Request #5031 (Web Link)\"\n",
      "Unknown reference in ZEPPELIN-1326 of a pull request: This issue links to \"GitHub Pull Request # (Web Link)\"\n",
      "Unknown reference in ZEPPELIN-6181 of a pull request: This issue links to \"GitHub Pull Request #5024 (Web Link)\"\n",
      "Unknown reference in ZEPPELIN-2152 of a pull request: This issue links to \"GitHub Pull Request # (Web Link)\"\n",
      "Unknown reference in ZEPPELIN-1179 of a pull request: This issue links to \"GitHub Pull Request # (Web Link)\"\n",
      "Unknown reference in ZEPPELIN-1169 of a pull request: This issue links to \"GitHub Pull Request # (Web Link)\"\n",
      "Unknown reference in ZEPPELIN-3190 of a pull request: This issue links to \"GitHub Pull Request # (Web Link)\"\n",
      "Direct links: 916\n",
      "Linked via issues: 11837\n",
      "Saved Graph to graph.pickle\n",
      "~~~~ Graph summary ~~~~\n",
      "commits: 5512\n",
      "git_users: 602\n",
      "files: 3228\n",
      "\n",
      "issue_statuses: 48\n",
      "issue_types: 7\n",
      "issue_status_categories: 3\n",
      "jira_users: 2008\n",
      "issues: 6202\n",
      "\n",
      "pull_requests: 5022\n",
      "git_hub_users: 690\n",
      "git_hub_commits: 17869\n",
      "\n",
      "nodes: 41191\n",
      "edges: 176208\n"
     ]
    }
   ],
   "execution_count": 2
  },
  {
   "metadata": {
    "ExecuteTime": {
     "end_time": "2025-09-07T23:10:28.238316Z",
     "start_time": "2025-09-07T23:10:27.738052Z"
    }
   },
   "cell_type": "code",
   "source": [
    "graph.save()\n",
    "\n",
    "print(graph.summary())"
   ],
   "id": "25743719dcd9c232",
   "outputs": [
    {
     "name": "stdout",
     "output_type": "stream",
     "text": [
      "Saved Graph to graph.pickle\n",
      "~~~~ Graph summary ~~~~\n",
      "commits: 5512\n",
      "git_users: 602\n",
      "files: 3228\n",
      "\n",
      "issue_statuses: 48\n",
      "issue_types: 7\n",
      "issue_status_categories: 3\n",
      "jira_users: 2008\n",
      "issues: 6202\n",
      "\n",
      "pull_requests: 5022\n",
      "git_hub_users: 690\n",
      "git_hub_commits: 17869\n",
      "\n",
      "nodes: 41191\n",
      "edges: 175451\n"
     ]
    }
   ],
   "execution_count": 3
  }
 ],
 "metadata": {
  "kernelspec": {
   "display_name": "Python 3",
   "language": "python",
   "name": "python3"
  },
  "language_info": {
   "codemirror_mode": {
    "name": "ipython",
    "version": 2
   },
   "file_extension": ".py",
   "mimetype": "text/x-python",
   "name": "python",
   "nbconvert_exporter": "python",
   "pygments_lexer": "ipython2",
   "version": "2.7.6"
  }
 },
 "nbformat": 4,
 "nbformat_minor": 5
}
