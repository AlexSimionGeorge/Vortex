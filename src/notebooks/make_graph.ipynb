{
 "cells": [
  {
   "metadata": {},
   "cell_type": "markdown",
   "source": "# Imports",
   "id": "6679d192763fe029"
  },
  {
   "metadata": {
    "ExecuteTime": {
     "end_time": "2025-09-08T19:32:22.804525Z",
     "start_time": "2025-09-08T19:32:22.722651Z"
    }
   },
   "cell_type": "code",
   "source": [
    "from src.inspector_git import IGLogReader, GitLogDTO\n",
    "from src.jira_miner.models import JsonFileFormatJira\n",
    "from src.github_miner import JsonFileFormatGithub\n",
    "import json\n",
    "from pathlib import Path\n",
    "from pprint import pprint\n",
    "import re\n",
    "from datetime import datetime\n",
    "import pickle\n",
    "from graph import *"
   ],
   "id": "263ef051944f4924",
   "outputs": [],
   "execution_count": 1
  },
  {
   "metadata": {},
   "cell_type": "markdown",
   "source": "# Load data from SERIALIZED formats",
   "id": "2ae28bb6c5b7574a"
  },
  {
   "metadata": {
    "ExecuteTime": {
     "end_time": "2025-09-08T19:32:41.837507Z",
     "start_time": "2025-09-08T19:32:24.108383Z"
    }
   },
   "cell_type": "code",
   "source": [
    "# JSON\n",
    "path_jira = \"/home/vortex/Work/BachelorThesis/Vortex/test-input/jira-miner/ZEPPELIN-detailed-issues.json\"\n",
    "path_github = \"/home/vortex/Work/BachelorThesis/Vortex/test-input/github-miner/githubProject.json\"\n",
    "# IGLOG\n",
    "path_inspector_git = \"/home/vortex/Work/BachelorThesis/Vortex/test-input/inspector-git/zeppelin.iglog\"\n",
    "\n",
    "\n",
    "\n",
    "def load_from_json(model_cls, file_path: str):\n",
    "    \"\"\"Load JSON from a given path and validate it with the provided model class.\"\"\"\n",
    "    file_path = Path(file_path)\n",
    "\n",
    "    if not file_path.exists():\n",
    "        raise FileNotFoundError(f\"File not found: {file_path}\")\n",
    "\n",
    "    with file_path.open(\"r\", encoding=\"utf-8\") as f:\n",
    "        data = json.load(f)\n",
    "\n",
    "    return model_cls.model_validate(data)\n",
    "\n",
    "def load_jsons():\n",
    "    jira_data_loaded = load_from_json(JsonFileFormatJira, path_jira)\n",
    "    github_data_loaded = load_from_json(JsonFileFormatGithub, path_github)\n",
    "    return jira_data_loaded, github_data_loaded\n",
    "\n",
    "ig_log_reader = IGLogReader()\n",
    "\n",
    "jira_data, github_data = load_jsons()\n",
    "inspector_git_data = ig_log_reader.read(path_inspector_git)"
   ],
   "id": "6f4e713e4de3b673",
   "outputs": [],
   "execution_count": 2
  },
  {
   "metadata": {
    "ExecuteTime": {
     "end_time": "2025-09-08T19:33:10.601466Z",
     "start_time": "2025-09-08T19:32:41.849557Z"
    }
   },
   "cell_type": "code",
   "source": [
    "import importlib, graph\n",
    "importlib.reload(graph)\n",
    "from graph import *\n",
    "\n",
    "graph = Graph()\n",
    "\n",
    "graph.add_inspector_git_data(inspector_git_data)\n",
    "graph.add_jira_data(jira_data)\n",
    "graph.add_github_data(github_data)\n",
    "\n",
    "graph.link_issues_with_git_commits()\n",
    "graph.link_pull_request_with_issue(jira_data)\n",
    "graph.link_pull_requests_with_git_commits()\n",
    "\n",
    "print(graph.summary())"
   ],
   "id": "847b41e581605ed5",
   "outputs": [
    {
     "name": "stdout",
     "output_type": "stream",
     "text": [
      "Indexing is 6186\n",
      "~~~~ Graph summary ~~~~\n",
      "commits: 5512\n",
      "git_users: 602\n",
      "files: 6185\n",
      "\n",
      "issue_statuses: 48\n",
      "issue_types: 7\n",
      "issue_status_categories: 3\n",
      "jira_users: 2008\n",
      "issues: 6202\n",
      "\n",
      "pull_requests: 5022\n",
      "git_hub_users: 690\n",
      "git_hub_commits: 17869\n",
      "\n",
      "nodes: 44148\n",
      "edges: 246520\n",
      "\n"
     ]
    }
   ],
   "execution_count": 3
  },
  {
   "metadata": {
    "ExecuteTime": {
     "end_time": "2025-09-08T19:33:28.971229Z",
     "start_time": "2025-09-08T19:33:28.928843Z"
    }
   },
   "cell_type": "code",
   "source": [
    "graph.files = []\n",
    "graph.issues = []\n",
    "graph.save()"
   ],
   "id": "2dca60fbdd6863d6",
   "outputs": [
    {
     "ename": "RecursionError",
     "evalue": "maximum recursion depth exceeded while pickling an object",
     "output_type": "error",
     "traceback": [
      "\u001B[31m---------------------------------------------------------------------------\u001B[39m",
      "\u001B[31mRecursionError\u001B[39m                            Traceback (most recent call last)",
      "\u001B[36mCell\u001B[39m\u001B[36m \u001B[39m\u001B[32mIn[5]\u001B[39m\u001B[32m, line 3\u001B[39m\n\u001B[32m      1\u001B[39m graph.files = []\n\u001B[32m      2\u001B[39m graph.issues = []\n\u001B[32m----> \u001B[39m\u001B[32m3\u001B[39m graph.save()\n",
      "\u001B[36mFile \u001B[39m\u001B[32m~/Work/BachelorThesis/Vortex/src/notebooks/graph.py:818\u001B[39m, in \u001B[36mGraph.save\u001B[39m\u001B[34m(self, path)\u001B[39m\n\u001B[32m    816\u001B[39m \u001B[38;5;66;03m# Save self\u001B[39;00m\n\u001B[32m    817\u001B[39m \u001B[38;5;28;01mwith\u001B[39;00m \u001B[38;5;28mopen\u001B[39m(pickle_path, \u001B[33m\"\u001B[39m\u001B[33mwb\u001B[39m\u001B[33m\"\u001B[39m) \u001B[38;5;28;01mas\u001B[39;00m f:\n\u001B[32m--> \u001B[39m\u001B[32m818\u001B[39m     pickle.dump(\u001B[38;5;28mself\u001B[39m, f)\n\u001B[32m    820\u001B[39m \u001B[38;5;28mprint\u001B[39m(\u001B[33mf\u001B[39m\u001B[33m\"\u001B[39m\u001B[33mSaved Graph to \u001B[39m\u001B[38;5;132;01m{\u001B[39;00mpickle_path\u001B[38;5;132;01m}\u001B[39;00m\u001B[33m\"\u001B[39m)\n\u001B[32m    821\u001B[39m \u001B[38;5;28;01mreturn\u001B[39;00m pickle_path\n",
      "\u001B[31mRecursionError\u001B[39m: maximum recursion depth exceeded while pickling an object"
     ]
    }
   ],
   "execution_count": 5
  },
  {
   "metadata": {
    "ExecuteTime": {
     "end_time": "2025-09-08T15:37:34.053509Z",
     "start_time": "2025-09-08T15:37:34.049217Z"
    }
   },
   "cell_type": "code",
   "outputs": [],
   "execution_count": 5,
   "source": [
    "fisiere = [f.path for f in graph.files]\n",
    "strings_sorted = sorted(fisiere)\n",
    "# Save to file\n",
    "with open(\"recursive.txt\", \"w\") as f:\n",
    "    for item in strings_sorted:\n",
    "        f.write(item + \"\\n\")"
   ],
   "id": "4b44b9280e09729d"
  },
  {
   "metadata": {
    "ExecuteTime": {
     "end_time": "2025-09-08T18:14:40.631054Z",
     "start_time": "2025-09-08T18:14:40.627580Z"
    }
   },
   "cell_type": "code",
   "source": [
    "nr  =0\n",
    "for file in graph.files:\n",
    "    if file.path == \"/dev/null\":\n",
    "        nr += 1\n",
    "\n",
    "print(nr)"
   ],
   "id": "5433580de2777b7d",
   "outputs": [
    {
     "name": "stdout",
     "output_type": "stream",
     "text": [
      "2270\n"
     ]
    }
   ],
   "execution_count": 38
  }
 ],
 "metadata": {
  "kernelspec": {
   "display_name": "Python 3",
   "language": "python",
   "name": "python3"
  },
  "language_info": {
   "codemirror_mode": {
    "name": "ipython",
    "version": 2
   },
   "file_extension": ".py",
   "mimetype": "text/x-python",
   "name": "python",
   "nbconvert_exporter": "python",
   "pygments_lexer": "ipython2",
   "version": "2.7.6"
  }
 },
 "nbformat": 4,
 "nbformat_minor": 5
}
