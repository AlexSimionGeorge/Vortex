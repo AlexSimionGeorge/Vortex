{
 "cells": [
  {
   "metadata": {
    "ExecuteTime": {
     "end_time": "2025-09-12T15:12:40.187024Z",
     "start_time": "2025-09-12T15:12:37.173302Z"
    }
   },
   "cell_type": "code",
   "source": [
    "from src.inspector_git.iglog.readers.ig_log_reader import IGLogReader\n",
    "\n",
    "def main():\n",
    "    path_inspector_git = \"../../test-input/inspector-git/zeppelin.iglog\"\n",
    "\n",
    "    reader = IGLogReader()\n",
    "\n",
    "    with open(path_inspector_git, \"r\", encoding=\"utf-8\") as stream:\n",
    "        git_log = reader.read(stream)\n",
    "\n",
    "    print(f\"Număr commit-uri citite: {len(git_log.commits)}\")\n",
    "    for idx, commit in enumerate(git_log.commits[:5], start=1):  # afișăm doar primele 5 pentru test\n",
    "        print(f\"\\nCommit {idx}:\")\n",
    "        print(f\"  ID: {commit.id}\")\n",
    "        print(f\"  Author: {commit.author_name} <{commit.author_email}>\")\n",
    "        print(f\"  Date: {commit.author_date}\")\n",
    "        print(f\"  Message: {commit.message.strip() if commit.message else ''}\")\n",
    "\n",
    "    return git_log.commits\n",
    "\n",
    "commits = main()\n"
   ],
   "id": "805e9904a90ea183",
   "outputs": [
    {
     "name": "stdout",
     "output_type": "stream",
     "text": [
      "Număr commit-uri citite: 5512\n",
      "\n",
      "Commit 1:\n",
      "  ID: ec716cf6e8725dc456db42d11a1972aa78d9de91\n",
      "  Author: Lee moon soo <leemoonsoo@gmail.com>\n",
      "  Date: Tue Jun 18 21:40:59 2013 -0700\n",
      "  Message: Initial commit\n",
      "\n",
      "Commit 2:\n",
      "  ID: d512bdeb12010d94f47b464d2e424d3ae03fa7d0\n",
      "  Author: anthony corbacho <corbacho.anthony@gmail.com>\n",
      "  Date: Wed Jun 19 15:35:47 2013 +0900\n",
      "  Message: Update .gitignore\n",
      "\n",
      "Commit 3:\n",
      "  ID: d55722b80cec76fc6df316ebbfac7751b2747c7d\n",
      "  Author: Lee moon soo <leemoonsoo@gmail.com>\n",
      "  Date: Fri Jul 5 15:42:12 2013 +0900\n",
      "  Message: Add mailing list\n",
      "\n",
      "Commit 4:\n",
      "  ID: e02e99d88265d12abf1d7109d5d799bdcba7f64f\n",
      "  Author: Lee moon soo <leemoonsoo@gmail.com>\n",
      "  Date: Sun Jul 7 10:31:05 2013 +0900\n",
      "  Message: Adding License\n",
      "\n",
      "Commit 5:\n",
      "  ID: c20fd6454e5733628ead3f129c7e803c1ead5b94\n",
      "  Author: Lee moon soo <leemoonsoo@gmail.com>\n",
      "  Date: Thu Aug 15 20:57:35 2013 +0900\n",
      "  Message: Some code is ported from NFlabs Peloton (www.nflabs.com)\n"
     ]
    }
   ],
   "execution_count": 1
  },
  {
   "metadata": {
    "ExecuteTime": {
     "end_time": "2025-09-12T15:13:21.792887Z",
     "start_time": "2025-09-12T15:13:21.790811Z"
    }
   },
   "cell_type": "code",
   "source": [
    "from pprint import pprint\n",
    "pprint(commits[0].changes[0])"
   ],
   "id": "3aaf041df0a737bc",
   "outputs": [
    {
     "name": "stdout",
     "output_type": "stream",
     "text": [
      "ChangeDTO(old_file_name='dev/null',\n",
      "          new_file_name='.gitignore',\n",
      "          type=<ChangeType.ADD: 'ADD'>,\n",
      "          parent_commit_id='',\n",
      "          is_binary=False)\n"
     ]
    }
   ],
   "execution_count": 3
  },
  {
   "metadata": {},
   "cell_type": "markdown",
   "source": "# Imports",
   "id": "5dc16f1ffb6d3913"
  },
  {
   "metadata": {
    "ExecuteTime": {
     "end_time": "2025-09-08T19:44:30.092676Z",
     "start_time": "2025-09-08T19:44:30.006223Z"
    }
   },
   "cell_type": "code",
   "source": [
    "from src.inspector_git import IGLogReader, GitLogDTO\n",
    "from src.jira_miner.models import JsonFileFormatJira\n",
    "from src.github_miner import JsonFileFormatGithub\n",
    "import json\n",
    "from pathlib import Path\n",
    "from pprint import pprint\n",
    "import re\n",
    "from datetime import datetime\n",
    "import pickle\n",
    "from graph import *"
   ],
   "id": "263ef051944f4924",
   "outputs": [],
   "execution_count": 1
  },
  {
   "metadata": {
    "ExecuteTime": {
     "end_time": "2025-09-08T19:45:35.826751Z",
     "start_time": "2025-09-08T19:45:35.824201Z"
    }
   },
   "cell_type": "code",
   "source": [
    "import os\n",
    "\n",
    "# Print the current working directory\n",
    "print(os.getcwd())\n"
   ],
   "id": "fb276a09cf906803",
   "outputs": [
    {
     "name": "stdout",
     "output_type": "stream",
     "text": [
      "/home/vortex/Work/BachelorThesis/Vortex/src/notebooks\n"
     ]
    }
   ],
   "execution_count": 4
  },
  {
   "metadata": {},
   "cell_type": "markdown",
   "source": "# Load data from SERIALIZED formats",
   "id": "2ae28bb6c5b7574a"
  },
  {
   "metadata": {
    "ExecuteTime": {
     "end_time": "2025-09-08T19:46:27.590275Z",
     "start_time": "2025-09-08T19:46:11.510646Z"
    }
   },
   "cell_type": "code",
   "source": [
    "# JSON\n",
    "path_jira = \"../../test-input/jira-miner/ZEPPELIN-detailed-issues.json\"\n",
    "path_github = \"../../test-input/github-miner/githubProject.json\"\n",
    "# IGLOG\n",
    "path_inspector_git = \"../../test-input/inspector-git/zeppelin.iglog\"\n",
    "\n",
    "\n",
    "\n",
    "def load_from_json(model_cls, file_path: str):\n",
    "    \"\"\"Load JSON from a given path and validate it with the provided model class.\"\"\"\n",
    "    file_path = Path(file_path)\n",
    "\n",
    "    if not file_path.exists():\n",
    "        raise FileNotFoundError(f\"File not found: {file_path}\")\n",
    "\n",
    "    with file_path.open(\"r\", encoding=\"utf-8\") as f:\n",
    "        data = json.load(f)\n",
    "\n",
    "    return model_cls.model_validate(data)\n",
    "\n",
    "def load_jsons():\n",
    "    jira_data_loaded = load_from_json(JsonFileFormatJira, path_jira)\n",
    "    github_data_loaded = load_from_json(JsonFileFormatGithub, path_github)\n",
    "    return jira_data_loaded, github_data_loaded\n",
    "\n",
    "ig_log_reader = IGLogReader()\n",
    "\n",
    "jira_data, github_data = load_jsons()\n",
    "inspector_git_data = ig_log_reader.read(path_inspector_git)"
   ],
   "id": "6f4e713e4de3b673",
   "outputs": [],
   "execution_count": 6
  },
  {
   "metadata": {
    "ExecuteTime": {
     "end_time": "2025-09-08T19:33:10.601466Z",
     "start_time": "2025-09-08T19:32:41.849557Z"
    }
   },
   "cell_type": "code",
   "source": [
    "import importlib, graph\n",
    "importlib.reload(graph)\n",
    "from graph import *\n",
    "\n",
    "graph = Graph()\n",
    "\n",
    "graph.add_inspector_git_data(inspector_git_data)\n",
    "graph.add_jira_data(jira_data)\n",
    "graph.add_github_data(github_data)\n",
    "\n",
    "graph.link_issues_with_git_commits()\n",
    "graph.link_pull_request_with_issue(jira_data)\n",
    "graph.link_pull_requests_with_git_commits()\n",
    "\n",
    "print(graph.summary())"
   ],
   "id": "847b41e581605ed5",
   "outputs": [
    {
     "name": "stdout",
     "output_type": "stream",
     "text": [
      "Indexing is 6186\n",
      "~~~~ Graph summary ~~~~\n",
      "commits: 5512\n",
      "git_users: 602\n",
      "files: 6185\n",
      "\n",
      "issue_statuses: 48\n",
      "issue_types: 7\n",
      "issue_status_categories: 3\n",
      "jira_users: 2008\n",
      "issues: 6202\n",
      "\n",
      "pull_requests: 5022\n",
      "git_hub_users: 690\n",
      "git_hub_commits: 17869\n",
      "\n",
      "nodes: 44148\n",
      "edges: 246520\n",
      "\n"
     ]
    }
   ],
   "execution_count": 3
  },
  {
   "metadata": {
    "ExecuteTime": {
     "end_time": "2025-09-08T19:33:28.971229Z",
     "start_time": "2025-09-08T19:33:28.928843Z"
    }
   },
   "cell_type": "code",
   "source": [
    "graph.files = []\n",
    "graph.issues = []\n",
    "graph.save()"
   ],
   "id": "2dca60fbdd6863d6",
   "outputs": [
    {
     "ename": "RecursionError",
     "evalue": "maximum recursion depth exceeded while pickling an object",
     "output_type": "error",
     "traceback": [
      "\u001B[31m---------------------------------------------------------------------------\u001B[39m",
      "\u001B[31mRecursionError\u001B[39m                            Traceback (most recent call last)",
      "\u001B[36mCell\u001B[39m\u001B[36m \u001B[39m\u001B[32mIn[5]\u001B[39m\u001B[32m, line 3\u001B[39m\n\u001B[32m      1\u001B[39m graph.files = []\n\u001B[32m      2\u001B[39m graph.issues = []\n\u001B[32m----> \u001B[39m\u001B[32m3\u001B[39m graph.save()\n",
      "\u001B[36mFile \u001B[39m\u001B[32m~/Work/BachelorThesis/Vortex/src/notebooks/graph.py:818\u001B[39m, in \u001B[36mGraph.save\u001B[39m\u001B[34m(self, path)\u001B[39m\n\u001B[32m    816\u001B[39m \u001B[38;5;66;03m# Save self\u001B[39;00m\n\u001B[32m    817\u001B[39m \u001B[38;5;28;01mwith\u001B[39;00m \u001B[38;5;28mopen\u001B[39m(pickle_path, \u001B[33m\"\u001B[39m\u001B[33mwb\u001B[39m\u001B[33m\"\u001B[39m) \u001B[38;5;28;01mas\u001B[39;00m f:\n\u001B[32m--> \u001B[39m\u001B[32m818\u001B[39m     pickle.dump(\u001B[38;5;28mself\u001B[39m, f)\n\u001B[32m    820\u001B[39m \u001B[38;5;28mprint\u001B[39m(\u001B[33mf\u001B[39m\u001B[33m\"\u001B[39m\u001B[33mSaved Graph to \u001B[39m\u001B[38;5;132;01m{\u001B[39;00mpickle_path\u001B[38;5;132;01m}\u001B[39;00m\u001B[33m\"\u001B[39m)\n\u001B[32m    821\u001B[39m \u001B[38;5;28;01mreturn\u001B[39;00m pickle_path\n",
      "\u001B[31mRecursionError\u001B[39m: maximum recursion depth exceeded while pickling an object"
     ]
    }
   ],
   "execution_count": 5
  },
  {
   "metadata": {
    "ExecuteTime": {
     "end_time": "2025-09-08T15:37:34.053509Z",
     "start_time": "2025-09-08T15:37:34.049217Z"
    }
   },
   "cell_type": "code",
   "outputs": [],
   "execution_count": 5,
   "source": [
    "fisiere = [f.path for f in graph.files]\n",
    "strings_sorted = sorted(fisiere)\n",
    "# Save to file\n",
    "with open(\"recursive.txt\", \"w\") as f:\n",
    "    for item in strings_sorted:\n",
    "        f.write(item + \"\\n\")"
   ],
   "id": "4b44b9280e09729d"
  },
  {
   "metadata": {
    "ExecuteTime": {
     "end_time": "2025-09-08T18:14:40.631054Z",
     "start_time": "2025-09-08T18:14:40.627580Z"
    }
   },
   "cell_type": "code",
   "source": [
    "nr  =0\n",
    "for file in graph.files:\n",
    "    if file.path == \"/dev/null\":\n",
    "        nr += 1\n",
    "\n",
    "print(nr)"
   ],
   "id": "5433580de2777b7d",
   "outputs": [
    {
     "name": "stdout",
     "output_type": "stream",
     "text": [
      "2270\n"
     ]
    }
   ],
   "execution_count": 38
  }
 ],
 "metadata": {
  "kernelspec": {
   "display_name": "Python 3",
   "language": "python",
   "name": "python3"
  },
  "language_info": {
   "codemirror_mode": {
    "name": "ipython",
    "version": 2
   },
   "file_extension": ".py",
   "mimetype": "text/x-python",
   "name": "python",
   "nbconvert_exporter": "python",
   "pygments_lexer": "ipython2",
   "version": "2.7.6"
  }
 },
 "nbformat": 4,
 "nbformat_minor": 5
}
