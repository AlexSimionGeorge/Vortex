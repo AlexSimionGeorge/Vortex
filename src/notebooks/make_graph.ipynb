{
 "cells": [
  {
   "cell_type": "code",
   "id": "initial_id",
   "metadata": {
    "collapsed": true,
    "ExecuteTime": {
     "end_time": "2025-08-22T13:24:22.351631Z",
     "start_time": "2025-08-22T13:24:22.273438Z"
    }
   },
   "source": [
    "from src.inspector_git import IGLogReader, GitLogDTO\n",
    "from src.jira_miner.models import JsonFileFormatJira\n",
    "from src.github_miner import JsonFileFormatGithub\n",
    "import json\n",
    "from pathlib import Path\n",
    "from pprint import pprint\n",
    "import re\n"
   ],
   "outputs": [],
   "execution_count": 1
  },
  {
   "metadata": {
    "ExecuteTime": {
     "end_time": "2025-08-22T13:24:23.537707Z",
     "start_time": "2025-08-22T13:24:23.535592Z"
    }
   },
   "cell_type": "code",
   "source": [
    "# JSON\n",
    "path_jira = \"/home/alex/Work/BachelorThesis/Vortex/test-input/jira-miner/ZEPPELIN-detailed-issues.json\"\n",
    "path_github = \"/home/alex/Work/BachelorThesis/Vortex/test-input/github-miner/githubProject.json\"\n",
    "\n",
    "# IGLOG\n",
    "path_inspector_git = \"/home/alex/Work/BachelorThesis/Vortex/test-input/inspector-git/zeppelin.iglog\"\n"
   ],
   "id": "58019fd0e37f40c3",
   "outputs": [],
   "execution_count": 2
  },
  {
   "metadata": {
    "ExecuteTime": {
     "end_time": "2025-08-22T13:24:25.221498Z",
     "start_time": "2025-08-22T13:24:25.218123Z"
    }
   },
   "cell_type": "code",
   "source": [
    "def load_from_json(model_cls, file_path: str):\n",
    "    \"\"\"Load JSON from a given path and validate it with the provided model class.\"\"\"\n",
    "    file_path = Path(file_path)\n",
    "\n",
    "    if not file_path.exists():\n",
    "        raise FileNotFoundError(f\"File not found: {file_path}\")\n",
    "\n",
    "    with file_path.open(\"r\", encoding=\"utf-8\") as f:\n",
    "        data = json.load(f)\n",
    "\n",
    "    return model_cls.model_validate(data)\n",
    "\n",
    "\n",
    "def load_jsons():\n",
    "    jira_data_loaded = load_from_json(JsonFileFormatJira, path_jira)\n",
    "    github_data_loaded = load_from_json(JsonFileFormatGithub, path_github)\n",
    "    return jira_data_loaded, github_data_loaded\n",
    "\n",
    "IGLogReader = IGLogReader()\n"
   ],
   "id": "1b667a76c9b06b05",
   "outputs": [],
   "execution_count": 3
  },
  {
   "metadata": {
    "ExecuteTime": {
     "end_time": "2025-08-22T13:24:43.286102Z",
     "start_time": "2025-08-22T13:24:26.255257Z"
    }
   },
   "cell_type": "code",
   "source": [
    "jira_data, github_data = load_jsons()\n",
    "inspector_git_data = IGLogReader.read(path_inspector_git)"
   ],
   "id": "5fe6d3b0c13f81db",
   "outputs": [],
   "execution_count": 4
  },
  {
   "metadata": {
    "ExecuteTime": {
     "end_time": "2025-08-22T13:26:22.172144Z",
     "start_time": "2025-08-22T13:26:22.170038Z"
    }
   },
   "cell_type": "code",
   "source": "",
   "id": "8f6593d9560f0d",
   "outputs": [],
   "execution_count": null
  }
 ],
 "metadata": {
  "kernelspec": {
   "display_name": "Python 3",
   "language": "python",
   "name": "python3"
  },
  "language_info": {
   "codemirror_mode": {
    "name": "ipython",
    "version": 2
   },
   "file_extension": ".py",
   "mimetype": "text/x-python",
   "name": "python",
   "nbconvert_exporter": "python",
   "pygments_lexer": "ipython2",
   "version": "2.7.6"
  }
 },
 "nbformat": 4,
 "nbformat_minor": 5
}
