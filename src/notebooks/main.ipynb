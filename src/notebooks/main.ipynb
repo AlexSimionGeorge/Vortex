{
 "cells": [
  {
   "metadata": {
    "ExecuteTime": {
     "end_time": "2025-10-04T08:47:56.558021Z",
     "start_time": "2025-10-04T08:47:22.813107Z"
    }
   },
   "cell_type": "code",
   "source": [
    "from pathlib import Path\n",
    "from src.github_miner.linker.transformers import GitHubProjectTransformer\n",
    "from src.common.models import GitProject, Issue\n",
    "from src.inspector_git.linker.transformers import GitProjectTransformer\n",
    "from src.inspector_git.reader.iglog.readers.ig_log_reader import IGLogReader\n",
    "from src.run_blame import check_blame\n",
    "import sys\n",
    "import pickle\n",
    "from src.jira_miner.reader_dto.loader import JiraJsonLoader\n",
    "from src.jira_miner.linker.transformers import JiraProjectTransformer\n",
    "from src.github_miner.reader_dto.loader import GithubJsonLoader\n",
    "from src.github_miner.linker.transformers import GitHubProjectTransformer\n",
    "\n",
    "# sys.setrecursionlimit(16336)\n",
    "\n",
    "\n",
    "def build_and_check_project(iglog_path: str, repo_path: str, compute_annotated_lines :bool) -> GitProject:\n",
    "    iglog_file = Path(iglog_path)\n",
    "\n",
    "    with open(iglog_file, \"r\", encoding=\"utf-8\") as f:\n",
    "        git_log_dto = IGLogReader().read(f)\n",
    "\n",
    "    transformer = GitProjectTransformer(\n",
    "        git_log_dto,\n",
    "        name=iglog_file.stem,\n",
    "        compute_annotated_lines=compute_annotated_lines,\n",
    "    )\n",
    "    project = transformer.transform()\n",
    "\n",
    "    if compute_annotated_lines:\n",
    "        check_blame(project, repo_path)\n",
    "\n",
    "    return project\n",
    "\n",
    "git_project = build_and_check_project(\n",
    "    \"../../test-input/inspector-git/zeppelin.iglog\",\n",
    "    \"/home/vortex/Work/BachelorThesis/voyager-target/test_inspector_git_repo/TestInspectorGitRepo\",\n",
    "    False\n",
    ")\n",
    "\n",
    "path_jira = \"../../test-input/jira-miner/ZEPPELIN-detailed-issues.json\"\n",
    "\n",
    "jira_loader = JiraJsonLoader(path_jira)\n",
    "jira_data = jira_loader.load()\n",
    "\n",
    "jira_transformer = JiraProjectTransformer(jira_data, name=\"Jira Project\")\n",
    "jira_project = jira_transformer.transform()\n",
    "\n",
    "path_github = \"../../test-input/github-miner/githubProject.json\"\n",
    "\n",
    "github_loader = GithubJsonLoader(path_github)\n",
    "github_data = github_loader.load()\n",
    "\n",
    "github_transformer = GitHubProjectTransformer(github_data, name=\"GitHub Project\")\n",
    "github_project = github_transformer.transform()\n",
    "\n",
    "\n",
    "from src.common.project_linkers import ProjectLinker\n",
    "\n",
    "ProjectLinker.link_projects(github_project, jira_project, jira_data)\n",
    "ProjectLinker.link_projects(jira_project, git_project)\n",
    "ProjectLinker.link_projects(github_project, git_project)\n",
    "\n",
    "graph_data = {\n",
    "        \"git\": git_project,\n",
    "        \"jira\": jira_project,\n",
    "        \"github\": github_project,\n",
    "    }"
   ],
   "id": "c095bfb4287c6803",
   "outputs": [],
   "execution_count": 1
  },
  {
   "metadata": {
    "ExecuteTime": {
     "end_time": "2025-10-04T08:48:31.822866Z",
     "start_time": "2025-10-04T08:48:31.810278Z"
    }
   },
   "cell_type": "code",
   "source": [
    "# 1. What are the top 5 most modified files and how many times were they modified?\n",
    "from collections import Counter\n",
    "\n",
    "file_counter = Counter()\n",
    "git_project = graph_data[\"git\"]\n",
    "\n",
    "for file in git_project.file_registry.all:\n",
    "    fname = file.last_existing_name()\n",
    "    file_counter[fname] = len(file.changes)\n",
    "\n",
    "top_5_files = file_counter.most_common(5)\n",
    "\n",
    "print(\"The 5 most modified files (with number of modifications):\")\n",
    "for fname, count in top_5_files:\n",
    "    print(f\"  {fname}: {count} modifications\")"
   ],
   "id": "f543ec0ddf71199",
   "outputs": [
    {
     "name": "stdout",
     "output_type": "stream",
     "text": [
      "The 5 most modified files (with number of modifications):\n",
      "  pom.xml: 522 modifications\n",
      "  zeppelin-web/src/app/notebook/paragraph/paragraph.controller.js: 465 modifications\n",
      "  zeppelin-interpreter/src/main/java/org/apache/zeppelin/conf/ZeppelinConfiguration.java: 355 modifications\n",
      "  zeppelin-server/src/main/java/org/apache/zeppelin/socket/NotebookServer.java: 332 modifications\n",
      "  spark/interpreter/src/main/java/org/apache/zeppelin/spark/OldSparkInterpreter.java: 274 modifications\n"
     ]
    }
   ],
   "execution_count": 3
  },
  {
   "metadata": {
    "ExecuteTime": {
     "end_time": "2025-10-04T08:50:10.077283Z",
     "start_time": "2025-10-04T08:50:10.061324Z"
    }
   },
   "cell_type": "code",
   "source": [
    "# 2. Which user contributed to the most Jira issues?\n",
    "from collections import defaultdict\n",
    "\n",
    "git_project = graph_data[\"git\"]\n",
    "user_issue_count = defaultdict(set)\n",
    "\n",
    "for account in git_project.account_registry.all:\n",
    "    for commit in account.commits:\n",
    "        for issue in commit.issues:\n",
    "            user_issue_count[account].add(issue)\n",
    "\n",
    "most_contributing_user = max(user_issue_count.items(), key=lambda x: len(x[1]), default=None)\n",
    "\n",
    "if most_contributing_user:\n",
    "    user, issues = most_contributing_user\n",
    "    print(f\"User {user.git_id} contributed to {len(issues)} Jira issues (the most).\")\n",
    "else:\n",
    "    print(\"No user found with associated issues.\")"
   ],
   "id": "4596b86d582e8b59",
   "outputs": [
    {
     "name": "stdout",
     "output_type": "stream",
     "text": [
      "User Jeff Zhang <zjffdu@apache.org> contributed to 995 Jira issues (the most).\n"
     ]
    }
   ],
   "execution_count": 5
  },
  {
   "metadata": {
    "ExecuteTime": {
     "end_time": "2025-10-04T08:54:55.669989Z",
     "start_time": "2025-10-04T08:54:55.651710Z"
    }
   },
   "cell_type": "code",
   "source": [
    "# 3. What are the top 5 “bug magnet” files?\n",
    "# (the most occurrences in commits associated with issues of type \"bug\")\n",
    "\n",
    "from collections import Counter\n",
    "\n",
    "bug_file_counter = Counter()\n",
    "\n",
    "# for issue_type in jira_project.issue_type_registry.all:\n",
    "#     if issue_type.name.lower() == \"bug\":\n",
    "#         for issue in issue_type.issues:\n",
    "#             for commit in issue.git_commits:\n",
    "#                 for change in commit.changes:\n",
    "#                     file = change.file\n",
    "#                     bug_file_counter[file.last_existing_name()] += 1\n",
    "\n",
    "for issue in jira_project.issue_registry.all:\n",
    "    for issue_type in issue.issue_types:\n",
    "        if issue_type.name.lower() == \"bug\":\n",
    "            for commit in issue.git_commits:\n",
    "                for change in commit.changes:\n",
    "                    bug_file_counter[change.file.last_existing_name()] += 1\n",
    "\n",
    "top_5_bug_magnets = bug_file_counter.most_common(5)\n",
    "print(\"Top 5 fișiere bug magnets:\")\n",
    "for fname, count in top_5_bug_magnets:\n",
    "    print(f\"  {fname}: {count} apariții în commituri asociate cu bug-uri\")\n"
   ],
   "id": "bf65d07e2ee9a0c5",
   "outputs": [
    {
     "name": "stdout",
     "output_type": "stream",
     "text": [
      "Top 5 fișiere bug magnets:\n",
      "  zeppelin-web/src/app/notebook/paragraph/paragraph.controller.js: 94 apariții în commituri asociate cu bug-uri\n",
      "  zeppelin-server/src/main/java/org/apache/zeppelin/socket/NotebookServer.java: 90 apariții în commituri asociate cu bug-uri\n",
      "  zeppelin-zengine/src/main/java/org/apache/zeppelin/notebook/Note.java: 69 apariții în commituri asociate cu bug-uri\n",
      "  pom.xml: 66 apariții în commituri asociate cu bug-uri\n",
      "  zeppelin-web/src/app/notebook/notebook.controller.js: 61 apariții în commituri asociate cu bug-uri\n"
     ]
    }
   ],
   "execution_count": 8
  }
 ],
 "metadata": {
  "kernelspec": {
   "display_name": "Python 3",
   "language": "python",
   "name": "python3"
  },
  "language_info": {
   "codemirror_mode": {
    "name": "ipython",
    "version": 2
   },
   "file_extension": ".py",
   "mimetype": "text/x-python",
   "name": "python",
   "nbconvert_exporter": "python",
   "pygments_lexer": "ipython2",
   "version": "2.7.6"
  }
 },
 "nbformat": 4,
 "nbformat_minor": 5
}
