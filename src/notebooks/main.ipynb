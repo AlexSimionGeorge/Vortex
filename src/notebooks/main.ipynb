{
 "cells": [
  {
   "metadata": {
    "ExecuteTime": {
     "end_time": "2025-09-23T11:23:10.212323Z",
     "start_time": "2025-09-23T11:22:47.748678Z"
    }
   },
   "cell_type": "code",
   "source": [
    "from pathlib import Path\n",
    "from src.github_miner.linker.transformers import GitHubProjectTransformer\n",
    "from src.common.models import GitProject, Issue\n",
    "from src.inspector_git.linker.transformers import GitProjectTransformer\n",
    "from src.inspector_git.reader.iglog.readers.ig_log_reader import IGLogReader\n",
    "from src.run_blame import check_blame\n",
    "import sys\n",
    "import pickle\n",
    "from src.jira_miner.reader_dto.loader import JiraJsonLoader\n",
    "from src.jira_miner.linker.transformers import JiraProjectTransformer\n",
    "from src.github_miner.reader_dto.loader import GithubJsonLoader\n",
    "from src.github_miner.linker.transformers import GitHubProjectTransformer\n",
    "\n",
    "# sys.setrecursionlimit(16336)\n",
    "\n",
    "\n",
    "def build_and_check_project(iglog_path: str, repo_path: str, compute_annotated_lines :bool) -> GitProject:\n",
    "    iglog_file = Path(iglog_path)\n",
    "\n",
    "    with open(iglog_file, \"r\", encoding=\"utf-8\") as f:\n",
    "        git_log_dto = IGLogReader().read(f)\n",
    "\n",
    "    transformer = GitProjectTransformer(\n",
    "        git_log_dto,\n",
    "        name=iglog_file.stem,\n",
    "        compute_annotated_lines=compute_annotated_lines,\n",
    "    )\n",
    "    project = transformer.transform()\n",
    "\n",
    "    if compute_annotated_lines:\n",
    "        check_blame(project, repo_path)\n",
    "\n",
    "    return project\n",
    "\n",
    "git_project = build_and_check_project(\n",
    "    \"../../test-input/inspector-git/zeppelin.iglog\",\n",
    "    \"/home/vortex/Work/BachelorThesis/voyager-target/test_inspector_git_repo/TestInspectorGitRepo\",\n",
    "    False\n",
    ")"
   ],
   "id": "c095bfb4287c6803",
   "outputs": [],
   "execution_count": 1
  },
  {
   "metadata": {
    "ExecuteTime": {
     "end_time": "2025-09-23T11:23:14.460909Z",
     "start_time": "2025-09-23T11:23:10.217970Z"
    }
   },
   "cell_type": "code",
   "source": [
    "path_jira = \"../../test-input/jira-miner/ZEPPELIN-detailed-issues.json\"\n",
    "\n",
    "jira_loader = JiraJsonLoader(path_jira)\n",
    "jira_data = jira_loader.load()\n",
    "\n",
    "jira_transformer = JiraProjectTransformer(jira_data, name=\"Jira Project\")\n",
    "jira_project = jira_transformer.transform()"
   ],
   "id": "48b5fd3365028050",
   "outputs": [],
   "execution_count": 2
  },
  {
   "metadata": {
    "ExecuteTime": {
     "end_time": "2025-09-23T11:23:17.181611Z",
     "start_time": "2025-09-23T11:23:14.466472Z"
    }
   },
   "cell_type": "code",
   "source": [
    "path_github = \"../../test-input/github-miner/githubProject.json\"\n",
    "\n",
    "github_loader = GithubJsonLoader(path_github)\n",
    "github_data = github_loader.load()\n",
    "\n",
    "github_transformer = GitHubProjectTransformer(github_data, name=\"GitHub Project\")\n",
    "github_project = github_transformer.transform()"
   ],
   "id": "67f23aa54f2f1642",
   "outputs": [],
   "execution_count": 3
  },
  {
   "metadata": {
    "ExecuteTime": {
     "end_time": "2025-09-23T11:23:59.591965Z",
     "start_time": "2025-09-23T11:23:54.492389Z"
    }
   },
   "cell_type": "code",
   "source": [
    "from src.common.project_linkers import ProjectLinker\n",
    "\n",
    "ProjectLinker.link_projects(github_project, jira_project, jira_data)\n",
    "ProjectLinker.link_projects(jira_project, git_project)\n",
    "ProjectLinker.link_projects(github_project, git_project)"
   ],
   "id": "ec3e78b7a8509fef",
   "outputs": [
    {
     "name": "stdout",
     "output_type": "stream",
     "text": [
      "[Linker] Direct PR–Commit links: 916\n"
     ]
    }
   ],
   "execution_count": 6
  }
 ],
 "metadata": {
  "kernelspec": {
   "display_name": "Python 3",
   "language": "python",
   "name": "python3"
  },
  "language_info": {
   "codemirror_mode": {
    "name": "ipython",
    "version": 2
   },
   "file_extension": ".py",
   "mimetype": "text/x-python",
   "name": "python",
   "nbconvert_exporter": "python",
   "pygments_lexer": "ipython2",
   "version": "2.7.6"
  }
 },
 "nbformat": 4,
 "nbformat_minor": 5
}
