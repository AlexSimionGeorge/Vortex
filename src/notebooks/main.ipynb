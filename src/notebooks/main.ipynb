{
 "cells": [
  {
   "cell_type": "code",
   "id": "initial_id",
   "metadata": {
    "collapsed": true,
    "ExecuteTime": {
     "end_time": "2025-09-15T14:22:02.364794Z",
     "start_time": "2025-09-15T14:22:02.257982Z"
    }
   },
   "source": [
    "from pathlib import Path\n",
    "\n",
    "from src.inspector_git.linker.transformers import GitProjectTransformer\n",
    "from src.inspector_git.reader.iglog.readers.ig_log_reader import IGLogReader\n",
    "\n",
    "# 🔹 1. Set the path to a single .iglog file\n",
    "iglog_path = Path(\"../../test-input/inspector-git/TestInspectorGitRepo.iglog\")\n",
    "\n",
    "# 🔹 2. Read the IGLog file\n",
    "with open(iglog_path, \"r\", encoding=\"utf-8\") as f:\n",
    "    git_log_dto = IGLogReader().read(f)\n",
    "\n",
    "# 🔹 3. Transform into a project (compute_annotated_lines=True)\n",
    "transformer = GitProjectTransformer(\n",
    "    git_log_dto,\n",
    "    name=iglog_path.stem,\n",
    "    compute_annotated_lines=True,\n",
    ")\n",
    "project = transformer.transform()"
   ],
   "outputs": [
    {
     "name": "stderr",
     "output_type": "stream",
     "text": [
      "2025-09-15 17:22:02,355 [INFO] src.inspector_git.linker.transformers: Creating GIT project TestInspectorGitRepo\n",
      "2025-09-15 17:22:02,355 [INFO] src.inspector_git.linker.transformers: Creating commit 1 / 7 (14%)\r\n",
      "2025-09-15 17:22:02,359 [INFO] src.inspector_git.linker.transformers: Creating commit 2 / 7 (28%)\r\n",
      "2025-09-15 17:22:02,359 [INFO] src.inspector_git.linker.transformers: Creating commit 3 / 7 (42%)\r\n",
      "2025-09-15 17:22:02,360 [INFO] src.inspector_git.linker.transformers: Creating commit 4 / 7 (57%)\r\n",
      "2025-09-15 17:22:02,361 [INFO] src.inspector_git.linker.transformers: Creating commit 5 / 7 (71%)\r\n",
      "2025-09-15 17:22:02,362 [INFO] src.inspector_git.linker.transformers: Creating commit 6 / 7 (85%)\r\n",
      "2025-09-15 17:22:02,362 [INFO] src.inspector_git.linker.transformers: Creating commit 7 / 7 (100%)\r\n",
      "2025-09-15 17:22:02,363 [INFO] src.inspector_git.linker.transformers: Done creating GIT project TestInspectorGitRepo\n"
     ]
    }
   ],
   "execution_count": 2
  },
  {
   "metadata": {
    "ExecuteTime": {
     "end_time": "2025-09-15T14:29:58.718868Z",
     "start_time": "2025-09-15T14:29:58.714286Z"
    }
   },
   "cell_type": "code",
   "source": [
    "# print(\"Accounts:\")\n",
    "# for acc in project.account_registry.all:\n",
    "#     print(acc)\n",
    "#\n",
    "# print(\"Commits:\")\n",
    "# for commit in project.commit_registry.all:\n",
    "#     print(commit)\n",
    "\n",
    "print(\"Files:\")\n",
    "for file in project.file_registry.all:\n",
    "    print(file)\n",
    "    for change in file.changes:\n",
    "        print(f\"{change}\")\n",
    "        print(\"\\tAnnotated Lines:\")\n",
    "        for idx, line in enumerate(change.annotated_lines, start=1):\n",
    "            print(f\"{idx}\\t{line}\\t{line.author.git_id.email}\")\n",
    "    print()"
   ],
   "id": "43ffa203fc12e43f",
   "outputs": [
    {
     "name": "stdout",
     "output_type": "stream",
     "text": [
      "Files:\n",
      "README.md\n",
      "In 23995e4a76b8a9d6898bffe2ffa7ce8494ed580c : first commit\n",
      "ChangeType.ADD dev/null->README.md\n",
      "\tAnnotated Lines:\n",
      "1\t23995e4a76b8a9d6898bffe2ffa7ce8494ed580c\talexsimiongeorge@gmail.com\n",
      "\n",
      "random_text.txt\n",
      "In a55f83ac66177ea82671980c24fb1fd51a7ca295 : added random text file\n",
      "ChangeType.ADD dev/null->random_text.txt\n",
      "\tAnnotated Lines:\n",
      "1\ta55f83ac66177ea82671980c24fb1fd51a7ca295\talexsimiongeorge@gmail.com\n",
      "2\ta55f83ac66177ea82671980c24fb1fd51a7ca295\talexsimiongeorge@gmail.com\n",
      "In fe38e751c6f9d56dd4cb37420b50fa9b5e43a555 : modified random text file\n",
      "ChangeType.MODIFY random_text.txt->random_text.txt\n",
      "\tAnnotated Lines:\n",
      "1\tfe38e751c6f9d56dd4cb37420b50fa9b5e43a555\talexsimiongeorge@gmail.com\n",
      "2\ta55f83ac66177ea82671980c24fb1fd51a7ca295\talexsimiongeorge@gmail.com\n",
      "3\tfe38e751c6f9d56dd4cb37420b50fa9b5e43a555\talexsimiongeorge@gmail.com\n",
      "\n",
      "test_file.txt\n",
      "In 35a4309f9acc856da528221ced720027dc133cad : added test file\n",
      "ChangeType.ADD dev/null->test_file.txt\n",
      "\tAnnotated Lines:\n",
      "1\t35a4309f9acc856da528221ced720027dc133cad\talexsimiongeorge@gmail.com\n",
      "In 1e13a7691181bee803cb6ee460fe827334d7cc0e : fixed test file\n",
      "ChangeType.MODIFY test_file.txt->test_file.txt\n",
      "\tAnnotated Lines:\n",
      "1\t35a4309f9acc856da528221ced720027dc133cad\talexsimiongeorge@gmail.com\n",
      "2\t1e13a7691181bee803cb6ee460fe827334d7cc0e\talexsimiongeorge@gmail.com\n",
      "In 323089f5ce11bd625d5df5e5c584aab36a43ad91 : merged test branch into main\n",
      "ChangeType.ADD dev/null->test_file.txt\n",
      "\tAnnotated Lines:\n",
      "1\t35a4309f9acc856da528221ced720027dc133cad\talexsimiongeorge@gmail.com\n",
      "2\t1e13a7691181bee803cb6ee460fe827334d7cc0e\talexsimiongeorge@gmail.com\n",
      "\n",
      "paralel_file.txt\n",
      "In 1630b7b85a8fd927cd42ae4ecd7ae4fd70d54d09 : added paralel_file.txt\n",
      "ChangeType.ADD dev/null->paralel_file.txt\n",
      "\tAnnotated Lines:\n",
      "In 323089f5ce11bd625d5df5e5c584aab36a43ad91 : merged test branch into main\n",
      "ChangeType.ADD dev/null->paralel_file.txt\n",
      "\tAnnotated Lines:\n",
      "\n"
     ]
    }
   ],
   "execution_count": 5
  },
  {
   "metadata": {
    "ExecuteTime": {
     "end_time": "2025-09-15T14:21:25.527700Z",
     "start_time": "2025-09-15T14:21:25.521488Z"
    }
   },
   "cell_type": "code",
   "source": [
    "from src.run_blame import parse_blame_file\n",
    "\n",
    "blame_data = parse_blame_file(\"../TestInspectorGitRepo_blame.txt\")\n",
    "\n",
    "for file, lines in blame_data.items():\n",
    "    print(f\"File: {file}\")\n",
    "    for entry in lines:\n",
    "        print(entry)"
   ],
   "id": "80990e5996d88e4a",
   "outputs": [
    {
     "name": "stdout",
     "output_type": "stream",
     "text": [
      "File: README.md\n",
      "{'sha': '23995e4', 'email': 'alexsimiongeorge@gmail.com', 'line_index': 1}\n",
      "File: paralel_file.txt\n",
      "File: random_text.txt\n",
      "{'sha': 'fe38e751', 'email': 'alexsimiongeorge@gmail.com', 'line_index': 1}\n",
      "{'sha': 'a55f83ac', 'email': 'alexsimiongeorge@gmail.com', 'line_index': 2}\n",
      "{'sha': 'fe38e751', 'email': 'alexsimiongeorge@gmail.com', 'line_index': 3}\n",
      "File: test_file.txt\n",
      "{'sha': '35a4309f', 'email': 'alexsimiongeorge@gmail.com', 'line_index': 1}\n",
      "{'sha': '1e13a769', 'email': 'alexsimiongeorge@gmail.com', 'line_index': 2}\n"
     ]
    }
   ],
   "execution_count": 1
  },
  {
   "metadata": {
    "ExecuteTime": {
     "end_time": "2025-09-15T14:48:32.646406Z",
     "start_time": "2025-09-15T14:48:32.640972Z"
    }
   },
   "cell_type": "code",
   "source": [
    "def check_blame(path_blame_file, project):\n",
    "    match = 0\n",
    "    total = 0\n",
    "\n",
    "    project_files = {}\n",
    "    for file in project.file_registry.all:\n",
    "        project_files[file.__str__()] = file\n",
    "\n",
    "    blame_data = parse_blame_file(path_blame_file)\n",
    "\n",
    "    for file_name, blame_line_entries in blame_data.items():\n",
    "        git_file = project_files.get(file_name, None)\n",
    "        if git_file is None:\n",
    "            print(f\"File not found: {file_name}\")\n",
    "            continue\n",
    "        git_info  = git_file.annotated_lines()\n",
    "\n",
    "        for entry in blame_line_entries:\n",
    "            line_index = entry[\"line_index\"]\n",
    "            sha = entry[\"sha\"]\n",
    "            email = entry[\"email\"]\n",
    "\n",
    "            try:\n",
    "                commit = git_info[line_index - 1]\n",
    "                if commit.id[:len(sha)] == sha and commit.author.git_id.email == email:\n",
    "                    match += 1\n",
    "                else:\n",
    "                    print(f\"Mismatch: {commit.id[:len(sha)]} != {sha} or {commit.author.git_id.email} != {email}\")\n",
    "                total += 1\n",
    "            except IndexError:\n",
    "                print(f\"Line not found: {line_index} in {file_name}\")\n",
    "\n",
    "\n",
    "    print(f\"Match: {match} / Total: {total}\")"
   ],
   "id": "dba5b932b7325d7a",
   "outputs": [],
   "execution_count": 17
  },
  {
   "metadata": {
    "ExecuteTime": {
     "end_time": "2025-09-15T14:48:34.322631Z",
     "start_time": "2025-09-15T14:48:34.319451Z"
    }
   },
   "cell_type": "code",
   "source": "check_blame(\"../TestInspectorGitRepo_blame.txt\", project)",
   "id": "1bb15177229f28d2",
   "outputs": [
    {
     "name": "stdout",
     "output_type": "stream",
     "text": [
      "Match: 6 / Total: 6\n"
     ]
    }
   ],
   "execution_count": 18
  }
 ],
 "metadata": {
  "kernelspec": {
   "display_name": "Python 3",
   "language": "python",
   "name": "python3"
  },
  "language_info": {
   "codemirror_mode": {
    "name": "ipython",
    "version": 2
   },
   "file_extension": ".py",
   "mimetype": "text/x-python",
   "name": "python",
   "nbconvert_exporter": "python",
   "pygments_lexer": "ipython2",
   "version": "2.7.6"
  }
 },
 "nbformat": 4,
 "nbformat_minor": 5
}
