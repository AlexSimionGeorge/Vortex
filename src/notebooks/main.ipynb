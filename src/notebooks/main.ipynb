{
 "cells": [
  {
   "metadata": {
    "ExecuteTime": {
     "end_time": "2025-09-24T10:56:35.446032Z",
     "start_time": "2025-09-24T10:56:12.156088Z"
    }
   },
   "cell_type": "code",
   "source": [
    "from pathlib import Path\n",
    "from src.github_miner.linker.transformers import GitHubProjectTransformer\n",
    "from src.common.models import GitProject, Issue\n",
    "from src.inspector_git.linker.transformers import GitProjectTransformer\n",
    "from src.inspector_git.reader.iglog.readers.ig_log_reader import IGLogReader\n",
    "from src.run_blame import check_blame\n",
    "import sys\n",
    "import pickle\n",
    "from src.jira_miner.reader_dto.loader import JiraJsonLoader\n",
    "from src.jira_miner.linker.transformers import JiraProjectTransformer\n",
    "from src.github_miner.reader_dto.loader import GithubJsonLoader\n",
    "from src.github_miner.linker.transformers import GitHubProjectTransformer\n",
    "\n",
    "# sys.setrecursionlimit(16336)\n",
    "\n",
    "\n",
    "def build_and_check_project(iglog_path: str, repo_path: str, compute_annotated_lines :bool) -> GitProject:\n",
    "    iglog_file = Path(iglog_path)\n",
    "\n",
    "    with open(iglog_file, \"r\", encoding=\"utf-8\") as f:\n",
    "        git_log_dto = IGLogReader().read(f)\n",
    "\n",
    "    transformer = GitProjectTransformer(\n",
    "        git_log_dto,\n",
    "        name=iglog_file.stem,\n",
    "        compute_annotated_lines=compute_annotated_lines,\n",
    "    )\n",
    "    project = transformer.transform()\n",
    "\n",
    "    if compute_annotated_lines:\n",
    "        check_blame(project, repo_path)\n",
    "\n",
    "    return project\n",
    "\n",
    "git_project = build_and_check_project(\n",
    "    \"../../test-input/inspector-git/zeppelin.iglog\",\n",
    "    \"/home/vortex/Work/BachelorThesis/voyager-target/test_inspector_git_repo/TestInspectorGitRepo\",\n",
    "    False\n",
    ")"
   ],
   "id": "c095bfb4287c6803",
   "outputs": [],
   "execution_count": 1
  },
  {
   "metadata": {
    "ExecuteTime": {
     "end_time": "2025-09-24T10:56:39.838551Z",
     "start_time": "2025-09-24T10:56:35.458829Z"
    }
   },
   "cell_type": "code",
   "source": [
    "path_jira = \"../../test-input/jira-miner/ZEPPELIN-detailed-issues.json\"\n",
    "\n",
    "jira_loader = JiraJsonLoader(path_jira)\n",
    "jira_data = jira_loader.load()\n",
    "\n",
    "jira_transformer = JiraProjectTransformer(jira_data, name=\"Jira Project\")\n",
    "jira_project = jira_transformer.transform()"
   ],
   "id": "48b5fd3365028050",
   "outputs": [],
   "execution_count": 2
  },
  {
   "metadata": {
    "ExecuteTime": {
     "end_time": "2025-09-24T10:56:42.478851Z",
     "start_time": "2025-09-24T10:56:39.845618Z"
    }
   },
   "cell_type": "code",
   "source": [
    "path_github = \"../../test-input/github-miner/githubProject.json\"\n",
    "\n",
    "github_loader = GithubJsonLoader(path_github)\n",
    "github_data = github_loader.load()\n",
    "\n",
    "github_transformer = GitHubProjectTransformer(github_data, name=\"GitHub Project\")\n",
    "github_project = github_transformer.transform()"
   ],
   "id": "67f23aa54f2f1642",
   "outputs": [],
   "execution_count": 3
  },
  {
   "metadata": {
    "ExecuteTime": {
     "end_time": "2025-09-24T10:56:47.773973Z",
     "start_time": "2025-09-24T10:56:42.487038Z"
    }
   },
   "cell_type": "code",
   "source": [
    "from src.common.project_linkers import ProjectLinker\n",
    "\n",
    "ProjectLinker.link_projects(github_project, jira_project, jira_data)\n",
    "ProjectLinker.link_projects(jira_project, git_project)\n",
    "ProjectLinker.link_projects(github_project, git_project)"
   ],
   "id": "ec3e78b7a8509fef",
   "outputs": [],
   "execution_count": 4
  },
  {
   "metadata": {
    "ExecuteTime": {
     "end_time": "2025-09-24T11:00:33.143085Z",
     "start_time": "2025-09-24T11:00:33.102712Z"
    }
   },
   "cell_type": "code",
   "source": [
    "# 1. Care sunt numele celor mai modificate 5 fișiere și de câte ori au fost modificate?\n",
    "from collections import Counter\n",
    "\n",
    "file_counter = Counter()\n",
    "for commit in git_project.git_commit_registry.all:\n",
    "    for change in commit.changes:\n",
    "        file_counter[change.file.relative_path()] += 1\n",
    "\n",
    "top_5_files = file_counter.most_common(5)\n",
    "print(\"Cele mai modificate 5 fișiere (cu număr de modificări):\")\n",
    "for fname, count in top_5_files:\n",
    "    print(f\"  {fname}: {count} modificări\")\n"
   ],
   "id": "f543ec0ddf71199",
   "outputs": [
    {
     "name": "stdout",
     "output_type": "stream",
     "text": [
      "Cele mai modificate 5 fișiere (cu număr de modificări):\n",
      "  dev/null: 15070 modificări\n",
      "  pom.xml: 522 modificări\n",
      "  zeppelin-web/src/app/notebook/paragraph/paragraph.controller.js: 465 modificări\n",
      "  zeppelin-interpreter/src/main/java/org/apache/zeppelin/conf/ZeppelinConfiguration.java: 355 modificări\n",
      "  zeppelin-server/src/main/java/org/apache/zeppelin/socket/NotebookServer.java: 332 modificări\n"
     ]
    }
   ],
   "execution_count": 8
  },
  {
   "metadata": {
    "ExecuteTime": {
     "end_time": "2025-09-24T11:00:46.336411Z",
     "start_time": "2025-09-24T11:00:46.315707Z"
    }
   },
   "cell_type": "code",
   "source": [
    "# 2. Care este userul care a contribuit la cele mai multe Jira issues?\n",
    "from collections import defaultdict\n",
    "\n",
    "user_issue_count = defaultdict(set)\n",
    "\n",
    "for account in git_project.account_registry.all:\n",
    "    for commit in account.commits:\n",
    "        for issue in commit.issues:\n",
    "            user_issue_count[account].add(issue)\n",
    "\n",
    "# sortăm după numărul de issues distincte\n",
    "most_contributing_user = max(user_issue_count.items(), key=lambda x: len(x[1]), default=None)\n",
    "\n",
    "if most_contributing_user:\n",
    "    user, issues = most_contributing_user\n",
    "    print(f\"Userul {user.git_id} a contribuit la {len(issues)} issues Jira (cele mai multe).\")\n",
    "else:\n",
    "    print(\"Nu am găsit niciun user cu issues asociate.\")\n"
   ],
   "id": "4596b86d582e8b59",
   "outputs": [
    {
     "name": "stdout",
     "output_type": "stream",
     "text": [
      "Userul Jeff Zhang <zjffdu@apache.org> a contribuit la 995 issues Jira (cele mai multe).\n"
     ]
    }
   ],
   "execution_count": 9
  },
  {
   "metadata": {
    "ExecuteTime": {
     "end_time": "2025-09-24T11:02:56.464111Z",
     "start_time": "2025-09-24T11:02:56.445026Z"
    }
   },
   "cell_type": "code",
   "source": [
    "# 3. Care sunt top 5 fișierele cele mai \"bug magnets\"?\n",
    "# (cele mai multe apariții în commituri asociate cu issues de tip \"bug\")\n",
    "\n",
    "from collections import Counter\n",
    "\n",
    "bug_file_counter = Counter()\n",
    "\n",
    "for issue in jira_project.issue_registry.all:\n",
    "    for issue_type in issue.issue_types:\n",
    "        if issue_type.name.lower() == \"bug\":\n",
    "            for commit in issue.git_commits:\n",
    "                for change in commit.changes:\n",
    "                    bug_file_counter[change.file.relative_path()] += 1\n",
    "\n",
    "top_5_bug_magnets = bug_file_counter.most_common(5)\n",
    "print(\"Top 5 fișiere bug magnets:\")\n",
    "for fname, count in top_5_bug_magnets:\n",
    "    print(f\"  {fname}: {count} apariții în commituri asociate cu bug-uri\")\n"
   ],
   "id": "bf65d07e2ee9a0c5",
   "outputs": [
    {
     "name": "stdout",
     "output_type": "stream",
     "text": [
      "Top 5 fișiere bug magnets:\n",
      "  dev/null: 1094 apariții în commituri asociate cu bug-uri\n",
      "  zeppelin-web/src/app/notebook/paragraph/paragraph.controller.js: 94 apariții în commituri asociate cu bug-uri\n",
      "  zeppelin-server/src/main/java/org/apache/zeppelin/socket/NotebookServer.java: 90 apariții în commituri asociate cu bug-uri\n",
      "  zeppelin-zengine/src/main/java/org/apache/zeppelin/notebook/Note.java: 69 apariții în commituri asociate cu bug-uri\n",
      "  pom.xml: 66 apariții în commituri asociate cu bug-uri\n"
     ]
    }
   ],
   "execution_count": 12
  }
 ],
 "metadata": {
  "kernelspec": {
   "display_name": "Python 3",
   "language": "python",
   "name": "python3"
  },
  "language_info": {
   "codemirror_mode": {
    "name": "ipython",
    "version": 2
   },
   "file_extension": ".py",
   "mimetype": "text/x-python",
   "name": "python",
   "nbconvert_exporter": "python",
   "pygments_lexer": "ipython2",
   "version": "2.7.6"
  }
 },
 "nbformat": 4,
 "nbformat_minor": 5
}
