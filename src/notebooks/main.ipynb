{
 "cells": [
  {
   "cell_type": "code",
   "id": "initial_id",
   "metadata": {
    "collapsed": true,
    "ExecuteTime": {
     "end_time": "2025-09-20T20:48:15.914569Z",
     "start_time": "2025-09-20T20:48:15.834534Z"
    }
   },
   "source": [
    "from pathlib import Path\n",
    "from src.inspector_git.linker.models import GitProject\n",
    "from src.inspector_git.linker.transformers import GitProjectTransformer\n",
    "from src.inspector_git.reader.iglog.readers.ig_log_reader import IGLogReader\n",
    "from src.run_blame import check_blame\n",
    "import sys\n",
    "# sys.setrecursionlimit(16336)\n",
    "\n",
    "def build_and_check_project(iglog_path: str, repo_path: str, compute_annotated_lines :bool) -> GitProject:\n",
    "    iglog_file = Path(iglog_path)\n",
    "\n",
    "    with open(iglog_file, \"r\", encoding=\"utf-8\") as f:\n",
    "        git_log_dto = IGLogReader().read(f)\n",
    "\n",
    "    transformer = GitProjectTransformer(\n",
    "        git_log_dto,\n",
    "        name=iglog_file.stem,\n",
    "        compute_annotated_lines=compute_annotated_lines,\n",
    "    )\n",
    "    project = transformer.transform()\n",
    "\n",
    "    if compute_annotated_lines:\n",
    "        check_blame(project, repo_path)\n",
    "\n",
    "    return project\n"
   ],
   "outputs": [],
   "execution_count": 1
  },
  {
   "metadata": {
    "ExecuteTime": {
     "end_time": "2025-09-20T20:48:17.429924Z",
     "start_time": "2025-09-20T20:48:17.416565Z"
    }
   },
   "cell_type": "code",
   "source": [
    "project = build_and_check_project(\n",
    "    \"../../test-input/inspector-git/TestInspectorGitRepo.iglog\",\n",
    "    \"/home/vortex/Work/BachelorThesis/voyager-target/zeppelin/zeppelin\",\n",
    "    False\n",
    ")\n"
   ],
   "id": "72a581806ca8a7cc",
   "outputs": [
    {
     "name": "stderr",
     "output_type": "stream",
     "text": [
      "2025-09-20 23:48:17,418 [INFO] src.inspector_git.linker.transformers: Creating GIT project TestInspectorGitRepo\n",
      "2025-09-20 23:48:17,419 [INFO] src.inspector_git.linker.transformers: Creating commit 1 / 8 (12%)\r\n",
      "2025-09-20 23:48:17,423 [INFO] src.inspector_git.linker.transformers: Creating commit 2 / 8 (25%)\r\n",
      "2025-09-20 23:48:17,424 [INFO] src.inspector_git.linker.transformers: Creating commit 3 / 8 (37%)\r\n",
      "2025-09-20 23:48:17,425 [INFO] src.inspector_git.linker.transformers: Creating commit 4 / 8 (50%)\r\n",
      "2025-09-20 23:48:17,425 [INFO] src.inspector_git.linker.transformers: Creating commit 5 / 8 (62%)\r\n",
      "2025-09-20 23:48:17,426 [INFO] src.inspector_git.linker.transformers: Creating commit 6 / 8 (75%)\r\n",
      "2025-09-20 23:48:17,427 [INFO] src.inspector_git.linker.transformers: Creating commit 7 / 8 (87%)\r\n",
      "2025-09-20 23:48:17,427 [INFO] src.inspector_git.linker.transformers: Creating commit 8 / 8 (100%)\r\n",
      "2025-09-20 23:48:17,428 [INFO] src.inspector_git.linker.transformers: Done creating GIT project TestInspectorGitRepo\n"
     ]
    }
   ],
   "execution_count": 2
  },
  {
   "metadata": {
    "ExecuteTime": {
     "end_time": "2025-09-20T20:48:19.352979Z",
     "start_time": "2025-09-20T20:48:19.348986Z"
    }
   },
   "cell_type": "code",
   "source": [
    "import pickle\n",
    "# import sys\n",
    "# sys.setrecursionlimit(100000)\n",
    "\n",
    "with open(\"project.pkl\", \"wb\") as f:\n",
    "    pickle.dump(project, f)\n",
    "\n",
    "print(\"GitProject saved to project.pkl\")"
   ],
   "id": "fced36a7ba84b900",
   "outputs": [
    {
     "name": "stdout",
     "output_type": "stream",
     "text": [
      "GitProject saved to project.pkl\n"
     ]
    }
   ],
   "execution_count": 3
  },
  {
   "metadata": {
    "ExecuteTime": {
     "end_time": "2025-09-20T20:48:20.753492Z",
     "start_time": "2025-09-20T20:48:20.749433Z"
    }
   },
   "cell_type": "code",
   "source": [
    "# --- Load from pickle ---\n",
    "with open(\"project.pkl\", \"rb\") as f:\n",
    "    loaded_project = pickle.load(f)"
   ],
   "id": "3b841fde72844f2d",
   "outputs": [],
   "execution_count": 4
  },
  {
   "metadata": {
    "ExecuteTime": {
     "end_time": "2025-09-20T17:23:49.289756Z",
     "start_time": "2025-09-20T17:23:49.239054Z"
    }
   },
   "cell_type": "code",
   "source": [
    "from typing import List, Dict, Any\n",
    "from pydantic import BaseModel\n",
    "import pickle\n",
    "\n",
    "# --- Models ---\n",
    "class Student(BaseModel):\n",
    "    id: int\n",
    "    first_name: str\n",
    "    last_name: str\n",
    "\n",
    "\n",
    "class Classroom(BaseModel):\n",
    "    id: str\n",
    "    students: List[Student]\n",
    "\n",
    "    # Custom serialization (to dict-like form)\n",
    "    def to_dict(self) -> Dict[str, Any]:\n",
    "        return {\n",
    "            \"id\": self.id,\n",
    "            \"student_ids\": [s.id for s in self.students],\n",
    "        }\n",
    "\n",
    "    # Pickling support using __reduce__\n",
    "    def __reduce__(self):\n",
    "        # Instead of storing Student objects, store only IDs\n",
    "        state = (self.id, [s.id for s in self.students])\n",
    "        return (self._rebuild, state)\n",
    "\n",
    "    @classmethod\n",
    "    def _rebuild(cls, id: str, student_ids: List[int]):\n",
    "        # Rebuild with empty students list, keep IDs in a temp attr\n",
    "        obj = cls(id=id, students=[])\n",
    "        obj._student_ids = student_ids\n",
    "        return obj\n",
    "\n",
    "    def attach_students(self, student_lookup: Dict[int, Student]):\n",
    "        \"\"\"Rebuild students list from a lookup dict of all students.\"\"\"\n",
    "        self.students = [student_lookup[sid] for sid in getattr(self, \"_student_ids\", [])]\n",
    "        if hasattr(self, \"_student_ids\"):\n",
    "            del self._student_ids"
   ],
   "id": "45f1a6e2b16a65d6",
   "outputs": [],
   "execution_count": 1
  },
  {
   "metadata": {
    "ExecuteTime": {
     "end_time": "2025-09-20T17:25:04.242845Z",
     "start_time": "2025-09-20T17:25:04.239747Z"
    }
   },
   "cell_type": "code",
   "source": [
    "# --- Example usage ---\n",
    "if __name__ == \"__main__\":\n",
    "    # Create students\n",
    "    s1 = Student(id=1, first_name=\"Alice\", last_name=\"Smith\")\n",
    "    s2 = Student(id=2, first_name=\"Bob\", last_name=\"Jones\")\n",
    "\n",
    "    # Create classroom\n",
    "    c1 = Classroom(id=\"room101\", students=[s1, s2])\n",
    "\n",
    "    # Serialize (pickle)\n",
    "    data = pickle.dumps(c1)\n",
    "\n",
    "    # Deserialize\n",
    "    restored = pickle.loads(data)\n",
    "    print(restored._student_ids)\n",
    "\n",
    "    # # Reattach students from global registry\n",
    "    # student_registry = {s.id: s for s in [s1, s2]}\n",
    "    # restored.attach_students(student_registry)\n",
    "    #\n",
    "    # print(restored)\n",
    "    # print(restored.students)"
   ],
   "id": "ad63a03f7039644e",
   "outputs": [
    {
     "name": "stdout",
     "output_type": "stream",
     "text": [
      "[1, 2]\n"
     ]
    }
   ],
   "execution_count": 4
  },
  {
   "metadata": {
    "ExecuteTime": {
     "end_time": "2025-09-20T18:28:39.885155Z",
     "start_time": "2025-09-20T18:28:39.883313Z"
    }
   },
   "cell_type": "code",
   "source": "c1._ceva_nou = 1\n",
   "id": "74d2bdb9fc326513",
   "outputs": [],
   "execution_count": 5
  }
 ],
 "metadata": {
  "kernelspec": {
   "display_name": "Python 3",
   "language": "python",
   "name": "python3"
  },
  "language_info": {
   "codemirror_mode": {
    "name": "ipython",
    "version": 2
   },
   "file_extension": ".py",
   "mimetype": "text/x-python",
   "name": "python",
   "nbconvert_exporter": "python",
   "pygments_lexer": "ipython2",
   "version": "2.7.6"
  }
 },
 "nbformat": 4,
 "nbformat_minor": 5
}
