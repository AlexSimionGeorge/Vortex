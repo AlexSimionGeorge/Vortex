{
 "cells": [
  {
   "cell_type": "code",
   "id": "initial_id",
   "metadata": {
    "collapsed": true,
    "ExecuteTime": {
     "end_time": "2025-09-22T18:37:03.380068Z",
     "start_time": "2025-09-22T18:36:41.451585Z"
    }
   },
   "source": [
    "from pathlib import Path\n",
    "from src.github_miner.linker.transformers import GitHubProjectTransformer\n",
    "from src.inspector_git.linker.models import GitProject\n",
    "from src.inspector_git.linker.transformers import GitProjectTransformer\n",
    "from src.inspector_git.reader.iglog.readers.ig_log_reader import IGLogReader\n",
    "from src.run_blame import check_blame\n",
    "import sys\n",
    "import pickle\n",
    "from src.jira_miner.reader_dto.loader import JiraJsonLoader\n",
    "from src.jira_miner.linker.transformers import JiraProjectTransformer\n",
    "from src.github_miner.reader_dto.loader import GithubJsonLoader\n",
    "from src.github_miner.linker.transformers import GitHubProjectTransformer\n",
    "\n",
    "# sys.setrecursionlimit(16336)\n",
    "\n",
    "from src.inspector_git.linker.models import GitCommit\n",
    "from src.jira_miner.linker.models import Issue\n",
    "\n",
    "\n",
    "\n",
    "def build_and_check_project(iglog_path: str, repo_path: str, compute_annotated_lines :bool) -> GitProject:\n",
    "    iglog_file = Path(iglog_path)\n",
    "\n",
    "    with open(iglog_file, \"r\", encoding=\"utf-8\") as f:\n",
    "        git_log_dto = IGLogReader().read(f)\n",
    "\n",
    "    transformer = GitProjectTransformer(\n",
    "        git_log_dto,\n",
    "        name=iglog_file.stem,\n",
    "        compute_annotated_lines=compute_annotated_lines,\n",
    "    )\n",
    "    project = transformer.transform()\n",
    "\n",
    "    if compute_annotated_lines:\n",
    "        check_blame(project, repo_path)\n",
    "\n",
    "    return project\n",
    "\n",
    "project = build_and_check_project(\n",
    "    \"../../test-input/inspector-git/zeppelin.iglog\",\n",
    "    \"/home/vortex/Work/BachelorThesis/voyager-target/test_inspector_git_repo/TestInspectorGitRepo\",\n",
    "    False\n",
    ")"
   ],
   "outputs": [],
   "execution_count": 1
  },
  {
   "metadata": {
    "ExecuteTime": {
     "end_time": "2025-09-22T18:03:28.278908Z",
     "start_time": "2025-09-22T18:03:23.335346Z"
    }
   },
   "cell_type": "code",
   "source": [
    "path_jira = \"../../test-input/jira-miner/ZEPPELIN-detailed-issues.json\"\n",
    "\n",
    "jira_loader = JiraJsonLoader(path_jira)\n",
    "jira_data = jira_loader.load()\n",
    "\n",
    "jira_transformer = JiraProjectTransformer(jira_data, name=\"Jira Project\")\n",
    "jira_project = jira_transformer.transform()"
   ],
   "id": "3c975d042da45608",
   "outputs": [
    {
     "name": "stdout",
     "output_type": "stream",
     "text": [
      "JiraProject(name=Jira Project,\n",
      "issue_status_category_registry: 3,\n",
      "issue_status_registry: 48,\n",
      "issue_type_registry: 7,\n",
      "issue_registry: 6248,\n",
      "jira_user_registry: 2010)\n"
     ]
    },
    {
     "data": {
      "text/plain": [
       "True"
      ]
     },
     "execution_count": 3,
     "metadata": {},
     "output_type": "execute_result"
    }
   ],
   "execution_count": 3
  },
  {
   "metadata": {
    "ExecuteTime": {
     "end_time": "2025-09-22T18:04:12.512888Z",
     "start_time": "2025-09-22T18:04:11.218394Z"
    }
   },
   "cell_type": "code",
   "source": [
    "path_github = \"../../test-input/github-miner/githubProject.json\"\n",
    "\n",
    "github_loader = GithubJsonLoader(path_github)\n",
    "github_data = github_loader.load()\n",
    "\n",
    "github_transformer = GitHubProjectTransformer(github_data, name=\"GitHub Project\")\n",
    "github_project = github_transformer.transform()"
   ],
   "id": "67f23aa54f2f1642",
   "outputs": [
    {
     "name": "stdout",
     "output_type": "stream",
     "text": [
      "GitHubProject(name=GitHub Project,\n",
      "git_hub_user_registry: 690,\n",
      "pull_request_registry: 5022,\n",
      "git_hub_commit_registry: 17869\n",
      ")\n"
     ]
    },
    {
     "data": {
      "text/plain": [
       "True"
      ]
     },
     "execution_count": 5,
     "metadata": {},
     "output_type": "execute_result"
    }
   ],
   "execution_count": 5
  }
 ],
 "metadata": {
  "kernelspec": {
   "display_name": "Python 3",
   "language": "python",
   "name": "python3"
  },
  "language_info": {
   "codemirror_mode": {
    "name": "ipython",
    "version": 2
   },
   "file_extension": ".py",
   "mimetype": "text/x-python",
   "name": "python",
   "nbconvert_exporter": "python",
   "pygments_lexer": "ipython2",
   "version": "2.7.6"
  }
 },
 "nbformat": 4,
 "nbformat_minor": 5
}
