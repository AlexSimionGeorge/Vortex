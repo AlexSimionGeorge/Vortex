{
 "cells": [
  {
   "cell_type": "code",
   "id": "initial_id",
   "metadata": {
    "collapsed": true,
    "ExecuteTime": {
     "end_time": "2025-09-22T08:21:57.711422Z",
     "start_time": "2025-09-22T08:21:34.405678Z"
    }
   },
   "source": [
    "from pathlib import Path\n",
    "\n",
    "from src.inspector_git.linker.models import GitProject\n",
    "from src.inspector_git.linker.transformers import GitProjectTransformer\n",
    "from src.inspector_git.reader.iglog.readers.ig_log_reader import IGLogReader\n",
    "from src.run_blame import check_blame\n",
    "import sys\n",
    "# sys.setrecursionlimit(16336)\n",
    "\n",
    "def build_and_check_project(iglog_path: str, repo_path: str, compute_annotated_lines :bool) -> GitProject:\n",
    "    iglog_file = Path(iglog_path)\n",
    "\n",
    "    with open(iglog_file, \"r\", encoding=\"utf-8\") as f:\n",
    "        git_log_dto = IGLogReader().read(f)\n",
    "\n",
    "    transformer = GitProjectTransformer(\n",
    "        git_log_dto,\n",
    "        name=iglog_file.stem,\n",
    "        compute_annotated_lines=compute_annotated_lines,\n",
    "    )\n",
    "    project = transformer.transform()\n",
    "\n",
    "    if compute_annotated_lines:\n",
    "        check_blame(project, repo_path)\n",
    "\n",
    "    return project\n",
    "\n",
    "project = build_and_check_project(\n",
    "    \"../../test-input/inspector-git/zeppelin.iglog\",\n",
    "    \"/home/vortex/Work/BachelorThesis/voyager-target/test_inspector_git_repo/TestInspectorGitRepo\",\n",
    "    False\n",
    ")"
   ],
   "outputs": [
    {
     "name": "stderr",
     "output_type": "stream",
     "text": [
      "2025-09-22 11:21:38,540 [WARNING] src.inspector_git.linker.transformers: Found change link to file for deletion outside the file changes list: b89ba779ad94ec256bd8ca52bf1183c18f940ff8-zeppelin-zengine/src/test/java/com/nflabs/zeppelin/zengine/ExecStatementTest.java->dev/null\n",
      "2025-09-22 11:21:38,629 [WARNING] src.inspector_git.linker.transformers: Found change link to file for deletion outside the file changes list: 017896fc7d2e7ad466ceba071bfbca22b4b9af20-zeppelin-zengine/src/test/java/com/nflabs/zeppelin/zengine/ExecStatementTest.java->dev/null\n",
      "2025-09-22 11:21:39,641 [WARNING] src.inspector_git.linker.transformers: Found change link to file for deletion outside the file changes list: 022b79ce1e7f0af6ec7fd27f34cdf80cbbe8234b-zeppelin-zengine/src/main/java/com/nflabs/zeppelin/zengine/Z.java->dev/null\n",
      "2025-09-22 11:21:39,645 [WARNING] src.inspector_git.linker.transformers: Found change link to file for deletion outside the file changes list: 022b79ce1e7f0af6ec7fd27f34cdf80cbbe8234b-zeppelin-zengine/src/test/java/com/nflabs/zeppelin/zengine/LTest.java->dev/null\n",
      "2025-09-22 11:21:39,726 [WARNING] src.inspector_git.linker.transformers: Found change link to file for deletion outside the file changes list: b751a23813a1473548f209f35f076a7875f6f511-zeppelin-zengine/src/test/java/com/nflabs/zeppelin/zengine/LTest.java->dev/null\n",
      "2025-09-22 11:21:39,729 [WARNING] src.inspector_git.linker.transformers: Found change link to file for deletion outside the file changes list: b751a23813a1473548f209f35f076a7875f6f511-zeppelin-zengine/src/test/java/com/nflabs/zeppelin/zengine/QTest.java->dev/null\n",
      "2025-09-22 11:21:45,048 [WARNING] src.inspector_git.linker.transformers: Found change link to file for deletion outside the file changes list: 6fc86da4f0d9bae9a7913897c23db4bc5a797833-zeppelin-server/src/main/java/com/nflabs/zeppelin/rest/NotebookApi.java->dev/null\n",
      "2025-09-22 11:21:45,343 [WARNING] src.inspector_git.linker.transformers: Found change link to file for deletion outside the file changes list: c0f14c4418f77226a8401b5fc0b74e3103f952ee-zeppelin-server/src/main/java/com/nflabs/zeppelin/rest/NotebookApi.java->dev/null\n"
     ]
    }
   ],
   "execution_count": 1
  },
  {
   "metadata": {
    "ExecuteTime": {
     "end_time": "2025-09-22T08:22:17.691773Z",
     "start_time": "2025-09-22T08:22:17.659448Z"
    }
   },
   "cell_type": "code",
   "source": [
    "count = 0\n",
    "for change in project.change_registry.all:\n",
    "    file = project.file_registry.get_by_id(change.file.id)\n",
    "    if not file:\n",
    "        print(count)\n",
    "        count += 1"
   ],
   "id": "d1dd4b576300bfc3",
   "outputs": [],
   "execution_count": 2
  },
  {
   "metadata": {
    "ExecuteTime": {
     "end_time": "2025-09-22T08:22:30.474296Z",
     "start_time": "2025-09-22T08:22:19.860047Z"
    }
   },
   "cell_type": "code",
   "source": [
    "import pickle\n",
    "\n",
    "with open(\"project.pkl\", \"wb\") as f:\n",
    "    pickle.dump(project, f)\n",
    "\n",
    "print(\"GitProject saved to project.pkl\")"
   ],
   "id": "56c0a45ec242557e",
   "outputs": [
    {
     "name": "stdout",
     "output_type": "stream",
     "text": [
      "GitProject saved to project.pkl\n"
     ]
    }
   ],
   "execution_count": 3
  },
  {
   "metadata": {
    "ExecuteTime": {
     "end_time": "2025-09-22T08:22:47.165254Z",
     "start_time": "2025-09-22T08:22:33.403556Z"
    }
   },
   "cell_type": "code",
   "source": [
    "with open(\"project.pkl\", \"rb\") as f:\n",
    "    loaded_project = pickle.load(f)"
   ],
   "id": "940276a08d57bda9",
   "outputs": [],
   "execution_count": 4
  },
  {
   "metadata": {
    "ExecuteTime": {
     "end_time": "2025-09-22T08:23:00.592037Z",
     "start_time": "2025-09-22T08:22:59.670476Z"
    }
   },
   "cell_type": "code",
   "source": "loaded_project == project",
   "id": "c6bb514e1a599903",
   "outputs": [
    {
     "data": {
      "text/plain": [
       "True"
      ]
     },
     "execution_count": 5,
     "metadata": {},
     "output_type": "execute_result"
    }
   ],
   "execution_count": 5
  }
 ],
 "metadata": {
  "kernelspec": {
   "display_name": "Python 3",
   "language": "python",
   "name": "python3"
  },
  "language_info": {
   "codemirror_mode": {
    "name": "ipython",
    "version": 2
   },
   "file_extension": ".py",
   "mimetype": "text/x-python",
   "name": "python",
   "nbconvert_exporter": "python",
   "pygments_lexer": "ipython2",
   "version": "2.7.6"
  }
 },
 "nbformat": 4,
 "nbformat_minor": 5
}
