{
 "cells": [
  {
   "cell_type": "code",
   "id": "initial_id",
   "metadata": {
    "collapsed": true,
    "ExecuteTime": {
     "end_time": "2025-09-22T08:21:57.711422Z",
     "start_time": "2025-09-22T08:21:34.405678Z"
    }
   },
   "source": [
    "from pathlib import Path\n",
    "\n",
    "from src.github_miner.linker.transformers import GitHubProjectTransformer\n",
    "from src.inspector_git.linker.models import GitProject\n",
    "from src.inspector_git.linker.transformers import GitProjectTransformer\n",
    "from src.inspector_git.reader.iglog.readers.ig_log_reader import IGLogReader\n",
    "from src.run_blame import check_blame\n",
    "import sys\n",
    "# sys.setrecursionlimit(16336)\n",
    "\n",
    "def build_and_check_project(iglog_path: str, repo_path: str, compute_annotated_lines :bool) -> GitProject:\n",
    "    iglog_file = Path(iglog_path)\n",
    "\n",
    "    with open(iglog_file, \"r\", encoding=\"utf-8\") as f:\n",
    "        git_log_dto = IGLogReader().read(f)\n",
    "\n",
    "    transformer = GitProjectTransformer(\n",
    "        git_log_dto,\n",
    "        name=iglog_file.stem,\n",
    "        compute_annotated_lines=compute_annotated_lines,\n",
    "    )\n",
    "    project = transformer.transform()\n",
    "\n",
    "    if compute_annotated_lines:\n",
    "        check_blame(project, repo_path)\n",
    "\n",
    "    return project\n",
    "\n",
    "project = build_and_check_project(\n",
    "    \"../../test-input/inspector-git/zeppelin.iglog\",\n",
    "    \"/home/vortex/Work/BachelorThesis/voyager-target/test_inspector_git_repo/TestInspectorGitRepo\",\n",
    "    False\n",
    ")\n",
    "\n",
    "import pickle\n",
    "\n",
    "with open(\"project.pkl\", \"wb\") as f:\n",
    "    pickle.dump(project, f)\n",
    "print(\"GitProject saved to project.pkl\")\n",
    "\n",
    "with open(\"project.pkl\", \"rb\") as f:\n",
    "    loaded_project = pickle.load(f)\n",
    "print(\"GitProject loaded from project.pkl\")\n",
    "\n",
    "loaded_project == project"
   ],
   "outputs": [
    {
     "name": "stderr",
     "output_type": "stream",
     "text": [
      "2025-09-22 11:21:38,540 [WARNING] src.inspector_git.linker.transformers: Found change link to file for deletion outside the file changes list: b89ba779ad94ec256bd8ca52bf1183c18f940ff8-zeppelin-zengine/src/test/java/com/nflabs/zeppelin/zengine/ExecStatementTest.java->dev/null\n",
      "2025-09-22 11:21:38,629 [WARNING] src.inspector_git.linker.transformers: Found change link to file for deletion outside the file changes list: 017896fc7d2e7ad466ceba071bfbca22b4b9af20-zeppelin-zengine/src/test/java/com/nflabs/zeppelin/zengine/ExecStatementTest.java->dev/null\n",
      "2025-09-22 11:21:39,641 [WARNING] src.inspector_git.linker.transformers: Found change link to file for deletion outside the file changes list: 022b79ce1e7f0af6ec7fd27f34cdf80cbbe8234b-zeppelin-zengine/src/main/java/com/nflabs/zeppelin/zengine/Z.java->dev/null\n",
      "2025-09-22 11:21:39,645 [WARNING] src.inspector_git.linker.transformers: Found change link to file for deletion outside the file changes list: 022b79ce1e7f0af6ec7fd27f34cdf80cbbe8234b-zeppelin-zengine/src/test/java/com/nflabs/zeppelin/zengine/LTest.java->dev/null\n",
      "2025-09-22 11:21:39,726 [WARNING] src.inspector_git.linker.transformers: Found change link to file for deletion outside the file changes list: b751a23813a1473548f209f35f076a7875f6f511-zeppelin-zengine/src/test/java/com/nflabs/zeppelin/zengine/LTest.java->dev/null\n",
      "2025-09-22 11:21:39,729 [WARNING] src.inspector_git.linker.transformers: Found change link to file for deletion outside the file changes list: b751a23813a1473548f209f35f076a7875f6f511-zeppelin-zengine/src/test/java/com/nflabs/zeppelin/zengine/QTest.java->dev/null\n",
      "2025-09-22 11:21:45,048 [WARNING] src.inspector_git.linker.transformers: Found change link to file for deletion outside the file changes list: 6fc86da4f0d9bae9a7913897c23db4bc5a797833-zeppelin-server/src/main/java/com/nflabs/zeppelin/rest/NotebookApi.java->dev/null\n",
      "2025-09-22 11:21:45,343 [WARNING] src.inspector_git.linker.transformers: Found change link to file for deletion outside the file changes list: c0f14c4418f77226a8401b5fc0b74e3103f952ee-zeppelin-server/src/main/java/com/nflabs/zeppelin/rest/NotebookApi.java->dev/null\n"
     ]
    }
   ],
   "execution_count": 1
  },
  {
   "metadata": {
    "ExecuteTime": {
     "end_time": "2025-09-22T15:56:27.997139Z",
     "start_time": "2025-09-22T15:56:07.246854Z"
    }
   },
   "cell_type": "code",
   "source": [
    "from src.jira_miner.reader_dto.loader import JiraJsonLoader\n",
    "from src.jira_miner.linker.transformers import JiraProjectTransformer\n",
    "\n",
    "path_jira = \"../../test-input/jira-miner/ZEPPELIN-detailed-issues.json\"\n",
    "\n",
    "jira_loader = JiraJsonLoader(path_jira)\n",
    "jira_data = jira_loader.load()\n",
    "\n",
    "jira_transformer = JiraProjectTransformer(jira_data, name=\"Jira Project\")\n",
    "jira_project = jira_transformer.transform()\n",
    "print(jira_project)"
   ],
   "id": "3c975d042da45608",
   "outputs": [
    {
     "name": "stdout",
     "output_type": "stream",
     "text": [
      "JiraProject(name=Jira Project,\n",
      "issue_status_category_registry: 3,\n",
      "issue_status_registry: 48,\n",
      "issue_type_registry: 7,\n",
      "issue_registry: 6248,\n",
      "jira_user_registry: 2010)\n"
     ]
    }
   ],
   "execution_count": 1
  },
  {
   "metadata": {
    "ExecuteTime": {
     "end_time": "2025-09-22T15:56:30.850632Z",
     "start_time": "2025-09-22T15:56:28.012710Z"
    }
   },
   "cell_type": "code",
   "source": [
    "from src.github_miner.reader_dto.loader import GithubJsonLoader\n",
    "from src.github_miner.linker.transformers import GitHubProjectTransformer\n",
    "\n",
    "path_github = \"../../test-input/github-miner/githubProject.json\"\n",
    "\n",
    "github_loader = GithubJsonLoader(path_github)\n",
    "github_data = github_loader.load()\n",
    "\n",
    "github_transformer = GitHubProjectTransformer(github_data, name=\"GitHub Project\")\n",
    "github_project = github_transformer.transform()\n",
    "print(github_project)\n"
   ],
   "id": "67f23aa54f2f1642",
   "outputs": [
    {
     "name": "stdout",
     "output_type": "stream",
     "text": [
      "GitHubProject(name=GitHub Project,\n",
      "git_hub_user_registry: 690,\n",
      "pull_request_registry: 5022,\n",
      "git_hub_commit_registry: 17869\n",
      ")\n"
     ]
    }
   ],
   "execution_count": 2
  }
 ],
 "metadata": {
  "kernelspec": {
   "display_name": "Python 3",
   "language": "python",
   "name": "python3"
  },
  "language_info": {
   "codemirror_mode": {
    "name": "ipython",
    "version": 2
   },
   "file_extension": ".py",
   "mimetype": "text/x-python",
   "name": "python",
   "nbconvert_exporter": "python",
   "pygments_lexer": "ipython2",
   "version": "2.7.6"
  }
 },
 "nbformat": 4,
 "nbformat_minor": 5
}
