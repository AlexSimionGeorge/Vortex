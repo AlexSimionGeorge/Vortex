{
 "cells": [
  {
   "cell_type": "code",
   "id": "initial_id",
   "metadata": {
    "collapsed": true,
    "ExecuteTime": {
     "end_time": "2025-09-20T21:27:57.799308Z",
     "start_time": "2025-09-20T21:27:57.694379Z"
    }
   },
   "source": [
    "from pathlib import Path\n",
    "from src.inspector_git.linker.models import GitProject\n",
    "from src.inspector_git.linker.transformers import GitProjectTransformer\n",
    "from src.inspector_git.reader.iglog.readers.ig_log_reader import IGLogReader\n",
    "from src.run_blame import check_blame\n",
    "import sys\n",
    "# sys.setrecursionlimit(16336)\n",
    "\n",
    "def build_and_check_project(iglog_path: str, repo_path: str, compute_annotated_lines :bool) -> GitProject:\n",
    "    iglog_file = Path(iglog_path)\n",
    "\n",
    "    with open(iglog_file, \"r\", encoding=\"utf-8\") as f:\n",
    "        git_log_dto = IGLogReader().read(f)\n",
    "\n",
    "    transformer = GitProjectTransformer(\n",
    "        git_log_dto,\n",
    "        name=iglog_file.stem,\n",
    "        compute_annotated_lines=compute_annotated_lines,\n",
    "    )\n",
    "    project = transformer.transform()\n",
    "\n",
    "    if compute_annotated_lines:\n",
    "        check_blame(project, repo_path)\n",
    "\n",
    "    return project\n",
    "\n",
    "project = build_and_check_project(\n",
    "    \"../../test-input/inspector-git/TestInspectorGitRepo.iglog\",\n",
    "    \"/home/vortex/Work/BachelorThesis/voyager-target/zeppelin/zeppelin\",\n",
    "    False\n",
    ")\n",
    "import pickle\n",
    "\n",
    "with open(\"project.pkl\", \"wb\") as f:\n",
    "    pickle.dump(project, f)\n",
    "\n",
    "print(\"GitProject saved to project.pkl\")\n",
    "\n",
    "with open(\"project.pkl\", \"rb\") as f:\n",
    "    loaded_project = pickle.load(f)"
   ],
   "outputs": [
    {
     "name": "stderr",
     "output_type": "stream",
     "text": [
      "2025-09-21 00:27:57,790 [INFO] src.inspector_git.linker.transformers: Creating GIT project TestInspectorGitRepo\n",
      "2025-09-21 00:27:57,791 [INFO] src.inspector_git.linker.transformers: Creating commit 1 / 8 (12%)\r\n",
      "2025-09-21 00:27:57,793 [INFO] src.inspector_git.linker.transformers: Creating commit 2 / 8 (25%)\r\n",
      "2025-09-21 00:27:57,793 [INFO] src.inspector_git.linker.transformers: Creating commit 3 / 8 (37%)\r\n",
      "2025-09-21 00:27:57,794 [INFO] src.inspector_git.linker.transformers: Creating commit 4 / 8 (50%)\r\n",
      "2025-09-21 00:27:57,794 [INFO] src.inspector_git.linker.transformers: Creating commit 5 / 8 (62%)\r\n",
      "2025-09-21 00:27:57,795 [INFO] src.inspector_git.linker.transformers: Creating commit 6 / 8 (75%)\r\n",
      "2025-09-21 00:27:57,795 [INFO] src.inspector_git.linker.transformers: Creating commit 7 / 8 (87%)\r\n",
      "2025-09-21 00:27:57,796 [INFO] src.inspector_git.linker.transformers: Creating commit 8 / 8 (100%)\r\n",
      "2025-09-21 00:27:57,796 [INFO] src.inspector_git.linker.transformers: Done creating GIT project TestInspectorGitRepo\n"
     ]
    },
    {
     "name": "stdout",
     "output_type": "stream",
     "text": [
      "GitProject saved to project.pkl\n"
     ]
    }
   ],
   "execution_count": 1
  }
 ],
 "metadata": {
  "kernelspec": {
   "display_name": "Python 3",
   "language": "python",
   "name": "python3"
  },
  "language_info": {
   "codemirror_mode": {
    "name": "ipython",
    "version": 2
   },
   "file_extension": ".py",
   "mimetype": "text/x-python",
   "name": "python",
   "nbconvert_exporter": "python",
   "pygments_lexer": "ipython2",
   "version": "2.7.6"
  }
 },
 "nbformat": 4,
 "nbformat_minor": 5
}
